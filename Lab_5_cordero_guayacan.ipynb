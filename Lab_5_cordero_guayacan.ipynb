{
 "cells": [
  {
   "cell_type": "markdown",
   "metadata": {
    "id": "tn-eQ8IZt2Iz"
   },
   "source": [
    "# Laboratorio 5 \n",
    "## Sebastian Guayacan Mesa 202014394\n",
    "## Andres Felipe Cordero Martinez 202011880"
   ]
  },
  {
   "cell_type": "code",
   "execution_count": 2,
   "metadata": {
    "id": "x_p41rZdt2I2"
   },
   "outputs": [
    {
     "ename": "ModuleNotFoundError",
     "evalue": "No module named 'matplotlib'",
     "output_type": "error",
     "traceback": [
      "\u001b[1;31m---------------------------------------------------------------------------\u001b[0m",
      "\u001b[1;31mModuleNotFoundError\u001b[0m                       Traceback (most recent call last)",
      "Cell \u001b[1;32mIn [2], line 1\u001b[0m\n\u001b[1;32m----> 1\u001b[0m \u001b[38;5;28;01mfrom\u001b[39;00m \u001b[38;5;21;01mmatplotlib\u001b[39;00m \u001b[38;5;28;01mimport\u001b[39;00m pyplot, pylab, mlab\n\u001b[0;32m      2\u001b[0m \u001b[38;5;28;01mfrom\u001b[39;00m \u001b[38;5;21;01mpylab\u001b[39;00m \u001b[38;5;28;01mimport\u001b[39;00m \u001b[38;5;241m*\u001b[39m\n\u001b[0;32m      3\u001b[0m \u001b[38;5;28;01mfrom\u001b[39;00m \u001b[38;5;21;01mscipy\u001b[39;00m\u001b[38;5;21;01m.\u001b[39;00m\u001b[38;5;21;01moptimize\u001b[39;00m \u001b[38;5;28;01mimport\u001b[39;00m linprog\n",
      "\u001b[1;31mModuleNotFoundError\u001b[0m: No module named 'matplotlib'"
     ]
    }
   ],
   "source": [
    "from matplotlib import pyplot, pylab, mlab\n",
    "from pylab import *\n",
    "from scipy.optimize import linprog\n",
    "import numpy as np\n",
    "import math \n",
    "from math import factorial\n",
    "from scipy.optimize import minimize\n",
    "import sympy as sym\n",
    "from itertools import combinations\n",
    "import pandas as pd\n",
    "import time\n",
    "from IPython.display import display"
   ]
  },
  {
   "cell_type": "markdown",
   "metadata": {},
   "source": [
    "## Primer punto\n",
    "\n"
   ]
  },
  {
   "cell_type": "markdown",
   "metadata": {},
   "source": [
    "### Descripción de la función Simplex\n",
    "\n",
    "Describir ......\n"
   ]
  },
  {
   "cell_type": "code",
   "execution_count": null,
   "metadata": {},
   "outputs": [],
   "source": [
    "# ------------------------------------------------------------------\n",
    "#                      Funciones Auxiliares\n",
    "# ------------------------------------------------------------------\n",
    "\n",
    "def printTableau(tableau, f):\n",
    "  \n",
    "    f = f[np.nonzero(f)]\n",
    "    print(\"ind \\t\", end = \"\")\n",
    "    for j in range(0, len(f)):\n",
    "        print(\"x_\" + str(j), end = \"\\t\")\n",
    "    for j in range(0, (len(tableau[0]) - len(f) - 2)):\n",
    "        print(\"s_\" + str(j), end = \"\\t\")\n",
    "    \n",
    "    print()\n",
    "    for j in range(0, len(tableau)):\n",
    "        for i in range(0, len(tableau[0])):\n",
    "            if(not np.isnan(tableau[j, i])):\n",
    "                if(i == 0):\n",
    "                    print(int(tableau[j, i]), end = \"\\t\")\n",
    "                else:\n",
    "                    print(round(tableau[j, i], 2), end = \"\\t\")\n",
    "            else:\n",
    "                print(end = \"\\t\")\n",
    "        print()\n",
    "\n",
    "def getTableau(c, A, b):\n",
    "  # Construct starting tableau\n",
    "  c[0:len(c)] = -1 * c[0:len(c)]\n",
    "\n",
    "  t2 = np.array([None, 0])\n",
    "  numVar = len(c)\n",
    "  numSlack = len(A)\n",
    "    \n",
    "  t2 = np.hstack(([None], c, [0]))\n",
    "  \n",
    "  basis = np.array([0] * numSlack)\n",
    "  \n",
    "  for i in range(0, len(basis)):\n",
    "      basis[i] = numVar + i\n",
    "      \n",
    "  t1 = np.hstack((np.transpose([basis]), A, np.transpose([b])))\n",
    "  \n",
    "  tableau = np.vstack((t1, t2))\n",
    "  \n",
    "  tableau = np.array(tableau, dtype ='float')\n",
    "  \n",
    "  return tableau\n",
    "\n",
    "# ------------------------------------------------------------------\n",
    "#                      Funcion Simplex\n",
    "# ------------------------------------------------------------------\n",
    "\n",
    "def simplex(f, A, b, print_iter=True):\n",
    "  for i in range(len(f)):\n",
    "    f[i] = -1 * f[i]\n",
    "    \n",
    "  # Build Tableu\n",
    "  tableau = getTableau(f, A, b)\n",
    "      \n",
    "  if(print_iter):\n",
    "      print(\"Starting Tableau:\")\n",
    "      printTableau(tableau, f)\n",
    "  \n",
    "  # Assume initial basis is not optimal\n",
    "  optimal = False\n",
    "\n",
    "  # Keep track of iterations for display\n",
    "  iter = 1\n",
    "\n",
    "  while not optimal:\n",
    "      \n",
    "    if print_iter:\n",
    "      print(\"--------------------------------------------------------------\")\n",
    "      print(\"ITERATION \", iter)\n",
    "      printTableau(tableau, f)\n",
    "        \n",
    "    # Look for direction of decreased cost\n",
    "    for cost in tableau[-1, 1:-1]:\n",
    "      if cost < 0:\n",
    "        optimal = False\n",
    "        break\n",
    "      optimal = True\n",
    "\n",
    "    # If all directions result in decreased cost SBF is optimal\n",
    "    if optimal: \n",
    "      break\n",
    "      \n",
    "    # nth variable enters basis, account for tableau indexing\n",
    "    n = tableau[-1, 1:-1].tolist().index(np.amin(tableau[-1, 1:-1])) + 1 # PUEDE QUE NO SEA 2\n",
    "\n",
    "    # Minimum ratio test, rth variable leaves basis \n",
    "    minimum = 99999\n",
    "    r = -1\n",
    "    \n",
    "    for i in range(0, len(tableau)-1): \n",
    "      if (tableau[i, n] > 0):\n",
    "        val = tableau[i, -1]/tableau[i, n]\n",
    "        if val<minimum: \n",
    "          minimum = val \n",
    "          r = i\n",
    "                    \n",
    "    pivot = tableau[r, n] \n",
    "    \n",
    "    print(\"Pivot Column:\", n)\n",
    "    print(\"Pivot Row:\", r)\n",
    "    print(\"Pivot Element: \", pivot)\n",
    "\n",
    "    # Perform row operations \n",
    "    # Divide the pivot row with the pivot element \n",
    "    tableau[r, 1:] = tableau[r, 1:] / pivot \n",
    "    \n",
    "    # Pivot other rows\n",
    "    for i in range(0, len(tableau)): \n",
    "      if i != r:\n",
    "        mult = tableau[i, n] / tableau[r, n]\n",
    "        tableau[i, 1:] = tableau[i, 1:] - mult * tableau[r, 1:] \n",
    "\n",
    "    # New basic variable \n",
    "    tableau[r, 0] = n - 1\n",
    "    iter += 1\n",
    "      \n",
    "  if print_iter:\n",
    "    print(\"--------------------------------------------------------------\")\n",
    "    print(\"Final Tableau reached in\", iter, \"iterations\")\n",
    "    printTableau(tableau, f)\n",
    "  else:\n",
    "      print(\"Solved\")\n",
    "      \n",
    "  x = np.array([0] * len(f), dtype = float)\n",
    "  # Save coefficients\n",
    "  for key in range(0, (len(tableau))):\n",
    "      if (tableau[key, 0] < len(f)):\n",
    "          x[int(tableau[key, 0])] = tableau[key, -1]\n",
    "  \n",
    "  optimalValue = -1 * tableau[-1,-1]\n",
    "\n",
    "  print(\"--------------------------------------------------------------\")\n",
    "  print(\"SOLUTION: \")\n",
    "  print(\"Fobj Optimal Value: \" + str(optimalValue))\n",
    "  print(\"Solution: \" + str(x))"
   ]
  },
  {
   "cell_type": "markdown",
   "metadata": {},
   "source": [
    "## Segundo Punto"
   ]
  },
  {
   "cell_type": "markdown",
   "metadata": {},
   "source": [
    "### a)"
   ]
  },
  {
   "cell_type": "code",
   "execution_count": null,
   "metadata": {},
   "outputs": [],
   "source": [
    "f = np.array([-6740, -5100, 0,0,0,0])\n",
    "A = np.array([[200,150,1,0,0,0], [18,20,0,1,0,0], [1,0,0,0,1,0], [0,1,0,0,0,1]])\n",
    "b = np.array([80000,9000,1500,200])\n",
    "\n",
    "simplex(f,A,b)"
   ]
  },
  {
   "cell_type": "code",
   "execution_count": null,
   "metadata": {},
   "outputs": [],
   "source": []
  },
  {
   "cell_type": "code",
   "execution_count": null,
   "metadata": {},
   "outputs": [],
   "source": []
  },
  {
   "cell_type": "markdown",
   "metadata": {},
   "source": [
    "### b)\n"
   ]
  },
  {
   "cell_type": "code",
   "execution_count": 3,
   "metadata": {},
   "outputs": [
    {
     "ename": "NameError",
     "evalue": "name 'np' is not defined",
     "output_type": "error",
     "traceback": [
      "\u001b[1;31m---------------------------------------------------------------------------\u001b[0m",
      "\u001b[1;31mNameError\u001b[0m                                 Traceback (most recent call last)",
      "Cell \u001b[1;32mIn [3], line 1\u001b[0m\n\u001b[1;32m----> 1\u001b[0m f \u001b[38;5;241m=\u001b[39m \u001b[43mnp\u001b[49m\u001b[38;5;241m.\u001b[39marray([\u001b[38;5;241m-\u001b[39m\u001b[38;5;241m1.1\u001b[39m,\u001b[38;5;241m-\u001b[39m\u001b[38;5;241m1\u001b[39m,\u001b[38;5;241m-\u001b[39m\u001b[38;5;241m0.9\u001b[39m,\u001b[38;5;241m-\u001b[39m\u001b[38;5;241m0.92\u001b[39m,\u001b[38;5;241m-\u001b[39m\u001b[38;5;241m1.2\u001b[39m,\u001b[38;5;241m0\u001b[39m,\u001b[38;5;241m0\u001b[39m,\u001b[38;5;241m0\u001b[39m])\n\u001b[0;32m      2\u001b[0m A \u001b[38;5;241m=\u001b[39m np\u001b[38;5;241m.\u001b[39marray([[\u001b[38;5;241m0.45\u001b[39m,\u001b[38;5;241m0.5\u001b[39m,\u001b[38;5;241m0.4\u001b[39m,\u001b[38;5;241m0.4\u001b[39m,\u001b[38;5;241m0.42\u001b[39m,\u001b[38;5;241m1\u001b[39m,\u001b[38;5;241m0\u001b[39m,\u001b[38;5;241m0\u001b[39m], [\u001b[38;5;241m0.5\u001b[39m,\u001b[38;5;241m0.4\u001b[39m,\u001b[38;5;241m0.4\u001b[39m,\u001b[38;5;241m0.4\u001b[39m,\u001b[38;5;241m0.2\u001b[39m,\u001b[38;5;241m0\u001b[39m,\u001b[38;5;241m1\u001b[39m,\u001b[38;5;241m0\u001b[39m], [\u001b[38;5;241m0.1\u001b[39m,\u001b[38;5;241m0.15\u001b[39m,\u001b[38;5;241m0.3\u001b[39m,\u001b[38;5;241m0.2\u001b[39m,\u001b[38;5;241m0.1\u001b[39m,\u001b[38;5;241m0\u001b[39m,\u001b[38;5;241m0\u001b[39m,\u001b[38;5;241m1\u001b[39m]])\n\u001b[0;32m      3\u001b[0m b \u001b[38;5;241m=\u001b[39m np\u001b[38;5;241m.\u001b[39marray([\u001b[38;5;241m240\u001b[39m,\u001b[38;5;241m190\u001b[39m,\u001b[38;5;241m80\u001b[39m])\n",
      "\u001b[1;31mNameError\u001b[0m: name 'np' is not defined"
     ]
    }
   ],
   "source": [
    "f = np.array([-1.1,-1,-0.9,-0.92,-1.2,0,0,0])\n",
    "A = np.array([[0.45,0.5,0.4,0.4,0.42,1,0,0], [0.5,0.4,0.4,0.4,0.2,0,1,0], [0.1,0.15,0.3,0.2,0.1,0,0,1]])\n",
    "b = np.array([240,190,80])\n",
    "\n",
    "simplex(f,A,b)"
   ]
  },
  {
   "cell_type": "code",
   "execution_count": null,
   "metadata": {},
   "outputs": [],
   "source": []
  },
  {
   "cell_type": "code",
   "execution_count": null,
   "metadata": {},
   "outputs": [],
   "source": []
  }
 ],
 "metadata": {
  "colab": {
   "collapsed_sections": [],
   "provenance": []
  },
  "kernelspec": {
   "display_name": "Python 3.10.7 64-bit",
   "language": "python",
   "name": "python3"
  },
  "language_info": {
   "codemirror_mode": {
    "name": "ipython",
    "version": 3
   },
   "file_extension": ".py",
   "mimetype": "text/x-python",
   "name": "python",
   "nbconvert_exporter": "python",
   "pygments_lexer": "ipython3",
   "version": "3.10.7"
  },
  "vscode": {
   "interpreter": {
    "hash": "5ddb639f46f1aed64eb774527d99778a81e58fa0f201d233251a0175b46cb9a5"
   }
  }
 },
 "nbformat": 4,
 "nbformat_minor": 1
}

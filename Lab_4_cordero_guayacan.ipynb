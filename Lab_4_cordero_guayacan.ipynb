{
 "cells": [
  {
   "cell_type": "markdown",
   "metadata": {},
   "source": [
    "# Laboratorio 4 "
   ]
  },
  {
   "cell_type": "markdown",
   "metadata": {},
   "source": []
  },
  {
   "cell_type": "markdown",
   "metadata": {},
   "source": [
    "## Primer punto\n",
    "\n",
    "### a)"
   ]
  },
  {
   "cell_type": "code",
   "execution_count": 83,
   "metadata": {},
   "outputs": [],
   "source": [
    "from matplotlib import pyplot, pylab, mlab\n",
    "from pylab import *\n",
    "from scipy.optimize import linprog\n",
    "import numpy as np\n",
    "import math \n",
    "from math import factorial\n",
    "from scipy.optimize import minimize\n",
    "import sympy as sym\n",
    "from itertools import combinations\n"
   ]
  },
  {
   "cell_type": "code",
   "execution_count": 126,
   "metadata": {},
   "outputs": [],
   "source": [
    "def soluciones_basicas (A,b):\n",
    "    sol_bas = None\n",
    "    base = None\n",
    "    columnas = np.size(A[0])\n",
    "    filas = np.size(b[:,0])\n",
    "    ans = {\"Solucion\": sol_bas,\n",
    "            \"Base\":base  }\n",
    "    matrices = list (combinations(np.arange(0, columnas, 1),filas))\n",
    "    for i in range(len(matrices)):\n",
    "        sub_A = []\n",
    "        for j in ((matrices[i])):\n",
    "                sub_A.append(A[:,j])\n",
    "        sub_A =  (np.array(sub_A)).transpose()\n",
    "        #print (np.linalg.solve(sub_A,b))\n",
    "       \n",
    "    return  "
   ]
  },
  {
   "cell_type": "code",
   "execution_count": null,
   "metadata": {},
   "outputs": [],
   "source": []
  },
  {
   "cell_type": "code",
   "execution_count": null,
   "metadata": {},
   "outputs": [],
   "source": []
  },
  {
   "cell_type": "markdown",
   "metadata": {},
   "source": [
    "### b)\n"
   ]
  },
  {
   "cell_type": "code",
   "execution_count": 85,
   "metadata": {},
   "outputs": [],
   "source": [
    "#Se crean las matrices  y  vector que determinan el sistema de ecuaciones \n",
    "A1 = np.array([[1 ,1,1,1,1 ],[1,2,3,4,5], [4,3,3,3,4]])\n",
    "A2 = np.array([[1 ,1,1,1,1 ],[1,2,3,4,5], [2,3,4,5,6]])\n",
    "b = np.array([[1],[2],[3]])"
   ]
  },
  {
   "cell_type": "code",
   "execution_count": 127,
   "metadata": {},
   "outputs": [
    {
     "name": "stdout",
     "output_type": "stream",
     "text": [
      "Optimization terminated successfully.\n",
      "         Current function value: -0.000000   \n",
      "         Iterations: 0\n",
      "[0. 0. 0.]\n",
      "Optimization terminated successfully.\n",
      "         Current function value: -0.000000   \n",
      "         Iterations: 0\n",
      "[0. 0. 0.]\n",
      "Optimization terminated successfully.\n",
      "         Current function value: -0.000000   \n",
      "         Iterations: 0\n",
      "[0. 0. 0.]\n",
      "Optimization terminated successfully.\n",
      "         Current function value: -0.000000   \n",
      "         Iterations: 0\n",
      "[0. 0. 0.]\n",
      "Optimization terminated successfully.\n",
      "         Current function value: -0.000000   \n",
      "         Iterations: 0\n",
      "[0. 0. 0.]\n",
      "Optimization terminated successfully.\n",
      "         Current function value: -0.000000   \n",
      "         Iterations: 0\n",
      "[0. 0. 0.]\n",
      "Optimization terminated successfully.\n",
      "         Current function value: -0.000000   \n",
      "         Iterations: 0\n",
      "[0. 0. 0.]\n",
      "Optimization terminated successfully.\n",
      "         Current function value: -0.000000   \n",
      "         Iterations: 0\n",
      "[0. 0. 0.]\n",
      "Optimization terminated successfully.\n",
      "         Current function value: -0.000000   \n",
      "         Iterations: 0\n",
      "[0. 0. 0.]\n",
      "Optimization terminated successfully.\n",
      "         Current function value: -0.000000   \n",
      "         Iterations: 0\n",
      "[0. 0. 0.]\n"
     ]
    }
   ],
   "source": [
    "soluciones_basicas(A1,b)\n"
   ]
  },
  {
   "cell_type": "code",
   "execution_count": 87,
   "metadata": {},
   "outputs": [
    {
     "data": {
      "text/plain": [
       "3"
      ]
     },
     "execution_count": 87,
     "metadata": {},
     "output_type": "execute_result"
    }
   ],
   "source": [
    "com =list (combinations([1,2,3,4,5],3))\n",
    "len (com[0])"
   ]
  },
  {
   "cell_type": "code",
   "execution_count": null,
   "metadata": {},
   "outputs": [],
   "source": []
  },
  {
   "cell_type": "code",
   "execution_count": null,
   "metadata": {},
   "outputs": [],
   "source": []
  },
  {
   "cell_type": "code",
   "execution_count": null,
   "metadata": {},
   "outputs": [],
   "source": []
  },
  {
   "cell_type": "markdown",
   "metadata": {},
   "source": [
    "### C)\n"
   ]
  },
  {
   "cell_type": "code",
   "execution_count": null,
   "metadata": {},
   "outputs": [],
   "source": []
  },
  {
   "cell_type": "code",
   "execution_count": null,
   "metadata": {},
   "outputs": [],
   "source": []
  },
  {
   "cell_type": "code",
   "execution_count": null,
   "metadata": {},
   "outputs": [],
   "source": []
  },
  {
   "cell_type": "markdown",
   "metadata": {},
   "source": [
    "## Segundo Punto"
   ]
  },
  {
   "cell_type": "markdown",
   "metadata": {},
   "source": [
    "### a)\n"
   ]
  },
  {
   "cell_type": "code",
   "execution_count": null,
   "metadata": {},
   "outputs": [],
   "source": []
  },
  {
   "cell_type": "code",
   "execution_count": null,
   "metadata": {},
   "outputs": [],
   "source": []
  },
  {
   "cell_type": "code",
   "execution_count": null,
   "metadata": {},
   "outputs": [],
   "source": []
  },
  {
   "cell_type": "code",
   "execution_count": null,
   "metadata": {},
   "outputs": [],
   "source": []
  },
  {
   "cell_type": "markdown",
   "metadata": {},
   "source": [
    "### b)"
   ]
  },
  {
   "cell_type": "code",
   "execution_count": null,
   "metadata": {},
   "outputs": [],
   "source": []
  },
  {
   "cell_type": "code",
   "execution_count": null,
   "metadata": {},
   "outputs": [],
   "source": []
  },
  {
   "cell_type": "code",
   "execution_count": null,
   "metadata": {},
   "outputs": [],
   "source": []
  },
  {
   "cell_type": "markdown",
   "metadata": {},
   "source": [
    "### c)"
   ]
  },
  {
   "cell_type": "code",
   "execution_count": null,
   "metadata": {},
   "outputs": [],
   "source": []
  },
  {
   "cell_type": "code",
   "execution_count": null,
   "metadata": {},
   "outputs": [],
   "source": []
  },
  {
   "cell_type": "code",
   "execution_count": null,
   "metadata": {},
   "outputs": [],
   "source": []
  },
  {
   "cell_type": "code",
   "execution_count": null,
   "metadata": {},
   "outputs": [],
   "source": []
  },
  {
   "cell_type": "markdown",
   "metadata": {},
   "source": []
  }
 ],
 "metadata": {
  "kernelspec": {
   "display_name": "Python 3.6.9 64-bit",
   "language": "python",
   "name": "python3"
  },
  "language_info": {
   "codemirror_mode": {
    "name": "ipython",
    "version": 3
   },
   "file_extension": ".py",
   "mimetype": "text/x-python",
   "name": "python",
   "nbconvert_exporter": "python",
   "pygments_lexer": "ipython3",
   "version": "3.6.9"
  },
  "orig_nbformat": 4,
  "vscode": {
   "interpreter": {
    "hash": "31f2aee4e71d21fbe5cf8b01ff0e069b9275f58929596ceb00d14d90e3e16cd6"
   }
  }
 },
 "nbformat": 4,
 "nbformat_minor": 2
}

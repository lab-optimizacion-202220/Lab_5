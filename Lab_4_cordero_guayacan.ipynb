{
 "cells": [
  {
   "cell_type": "markdown",
   "metadata": {
    "id": "tn-eQ8IZt2Iz"
   },
   "source": [
    "# Laboratorio 4 \n",
    "## Sebastian Guayacan Mesa 202014394\n",
    "## Andres Felipe Cordero Martinez 202011880"
   ]
  },
  {
   "cell_type": "markdown",
   "metadata": {
    "id": "s-qsxaZZt2I2"
   },
   "source": [
    "## Primer punto\n",
    "\n",
    "### a)"
   ]
  },
  {
   "cell_type": "code",
   "execution_count": 45,
   "metadata": {
    "id": "x_p41rZdt2I2"
   },
   "outputs": [],
   "source": [
    "from matplotlib import pyplot, pylab, mlab\n",
    "from pylab import *\n",
    "from scipy.optimize import linprog\n",
    "import numpy as np\n",
    "import math \n",
    "from math import factorial\n",
    "from scipy.optimize import minimize\n",
    "import sympy as sym\n",
    "from itertools import combinations\n",
    "import pandas as pd\n",
    "import time\n",
    "from IPython.display import display\n"
   ]
  },
  {
   "cell_type": "code",
   "execution_count": 46,
   "metadata": {
    "id": "YIlCMslJt2I3"
   },
   "outputs": [],
   "source": [
    "def soluciones_basicas (A,b):\n",
    "    sol_bas = []\n",
    "    bases = []\n",
    "    columnas = np.size(A[0])\n",
    "    filas = np.size(b[:,0])\n",
    "    ans = {\"Solucion\": sol_bas,\n",
    "            \"Base\":bases  }\n",
    "    matrices = list (combinations(np.arange(0, columnas, 1),filas))\n",
    "    \n",
    "    for i in range(len(matrices)):\n",
    "        sub_A = []\n",
    "        base =np.zeros((filas,columnas))\n",
    "        for j in ((matrices[i])):\n",
    "                sub_A.append(A[:,j])\n",
    "        sub_A =  (np.array(sub_A)).transpose()\n",
    "        if np.linalg.det(sub_A) !=0:\n",
    "          aux  = np.linalg.solve(sub_A,b)\n",
    "          aux = np.round(aux,5)\n",
    "          base[:,list(matrices[i])]=sub_A# se reconstruye la matriz B con las 5 variables 2 en 0      \n",
    "          bases.append(base)\n",
    "          sol_bas.append(aux)\n",
    "          \n",
    "    return  ans"
   ]
  },
  {
   "cell_type": "markdown",
   "metadata": {
    "id": "A70qGIo1t2I5"
   },
   "source": [
    "### b)\n"
   ]
  },
  {
   "cell_type": "code",
   "execution_count": 47,
   "metadata": {
    "id": "opuABwsDt2I5"
   },
   "outputs": [],
   "source": [
    "#Se crean las matrices  y  vector que determinan el sistema de ecuaciones \n",
    "A1 = np.array([[1 ,1,1,1,1 ],[1,2,3,4,5], [4,3,3,3,4]])\n",
    "A2 = np.array([[1 ,1,1,1,1 ],[1,2,3,4,5], [2,3,4,5,6]])\n",
    "b=np.array([[1],[2],[3]])"
   ]
  },
  {
   "cell_type": "code",
   "execution_count": 48,
   "metadata": {
    "id": "6LaMpYRxt2I5"
   },
   "outputs": [],
   "source": [
    "#Resultados con matriz de rango completo.\n",
    "dir1 = soluciones_basicas(A1,b)\n"
   ]
  },
  {
   "cell_type": "code",
   "execution_count": 49,
   "metadata": {
    "id": "7CYrCRjOt2I6"
   },
   "outputs": [],
   "source": [
    "#Resultados con matriz de rango completo.\n",
    "dir2 = soluciones_basicas(A2,b)\n",
    "\n"
   ]
  },
  {
   "cell_type": "markdown",
   "metadata": {
    "id": "-N04-3Prt2I7"
   },
   "source": [
    "### C)\n"
   ]
  },
  {
   "cell_type": "code",
   "execution_count": 50,
   "metadata": {
    "colab": {
     "base_uri": "https://localhost:8080/",
     "height": 332
    },
    "id": "IBy9blPjt2I7",
    "outputId": "eef53ef1-f8b1-4608-b723-64b97c938cb7"
   },
   "outputs": [
    {
     "data": {
      "text/html": [
       "<div>\n",
       "<style scoped>\n",
       "    .dataframe tbody tr th:only-of-type {\n",
       "        vertical-align: middle;\n",
       "    }\n",
       "\n",
       "    .dataframe tbody tr th {\n",
       "        vertical-align: top;\n",
       "    }\n",
       "\n",
       "    .dataframe thead th {\n",
       "        text-align: right;\n",
       "    }\n",
       "</style>\n",
       "<table border=\"1\" class=\"dataframe\">\n",
       "  <thead>\n",
       "    <tr style=\"text-align: right;\">\n",
       "      <th></th>\n",
       "      <th>Base</th>\n",
       "      <th>Solucion</th>\n",
       "    </tr>\n",
       "  </thead>\n",
       "  <tbody>\n",
       "    <tr>\n",
       "      <th>0</th>\n",
       "      <td>[[1.0, 1.0, 1.0, 0.0, 0.0], [1.0, 2.0, 3.0, 0.0, 0.0], [4.0, 3.0, 3.0, 0.0, 0.0]]</td>\n",
       "      <td>[[0.0], [1.0], [0.0]]</td>\n",
       "    </tr>\n",
       "    <tr>\n",
       "      <th>1</th>\n",
       "      <td>[[1.0, 1.0, 0.0, 1.0, 0.0], [1.0, 2.0, 0.0, 4.0, 0.0], [4.0, 3.0, 0.0, 3.0, 0.0]]</td>\n",
       "      <td>[[0.0], [1.0], [0.0]]</td>\n",
       "    </tr>\n",
       "    <tr>\n",
       "      <th>2</th>\n",
       "      <td>[[1.0, 1.0, 0.0, 0.0, 1.0], [1.0, 2.0, 0.0, 0.0, 5.0], [4.0, 3.0, 0.0, 0.0, 4.0]]</td>\n",
       "      <td>[[0.0], [1.0], [0.0]]</td>\n",
       "    </tr>\n",
       "    <tr>\n",
       "      <th>3</th>\n",
       "      <td>[[1.0, 0.0, 1.0, 1.0, 0.0], [1.0, 0.0, 3.0, 4.0, 0.0], [4.0, 0.0, 3.0, 3.0, 0.0]]</td>\n",
       "      <td>[[0.0], [2.0], [-1.0]]</td>\n",
       "    </tr>\n",
       "    <tr>\n",
       "      <th>4</th>\n",
       "      <td>[[1.0, 0.0, 1.0, 0.0, 1.0], [1.0, 0.0, 3.0, 0.0, 5.0], [4.0, 0.0, 3.0, 0.0, 4.0]]</td>\n",
       "      <td>[[0.25], [1.0], [-0.25]]</td>\n",
       "    </tr>\n",
       "    <tr>\n",
       "      <th>5</th>\n",
       "      <td>[[1.0, 0.0, 0.0, 1.0, 1.0], [1.0, 0.0, 0.0, 4.0, 5.0], [4.0, 0.0, 0.0, 3.0, 4.0]]</td>\n",
       "      <td>[[0.5], [1.0], [-0.5]]</td>\n",
       "    </tr>\n",
       "    <tr>\n",
       "      <th>6</th>\n",
       "      <td>[[0.0, 1.0, 1.0, 0.0, 1.0], [0.0, 2.0, 3.0, 0.0, 5.0], [0.0, 3.0, 3.0, 0.0, 4.0]]</td>\n",
       "      <td>[[1.0], [0.0], [-0.0]]</td>\n",
       "    </tr>\n",
       "    <tr>\n",
       "      <th>7</th>\n",
       "      <td>[[0.0, 1.0, 0.0, 1.0, 1.0], [0.0, 2.0, 0.0, 4.0, 5.0], [0.0, 3.0, 0.0, 3.0, 4.0]]</td>\n",
       "      <td>[[1.0], [0.0], [-0.0]]</td>\n",
       "    </tr>\n",
       "    <tr>\n",
       "      <th>8</th>\n",
       "      <td>[[0.0, 0.0, 1.0, 1.0, 1.0], [0.0, 0.0, 3.0, 4.0, 5.0], [0.0, 0.0, 3.0, 3.0, 4.0]]</td>\n",
       "      <td>[[2.0], [-1.0], [-0.0]]</td>\n",
       "    </tr>\n",
       "  </tbody>\n",
       "</table>\n",
       "</div>"
      ],
      "text/plain": [
       "                                                                                Base  \\\n",
       "0  [[1.0, 1.0, 1.0, 0.0, 0.0], [1.0, 2.0, 3.0, 0.0, 0.0], [4.0, 3.0, 3.0, 0.0, 0.0]]   \n",
       "1  [[1.0, 1.0, 0.0, 1.0, 0.0], [1.0, 2.0, 0.0, 4.0, 0.0], [4.0, 3.0, 0.0, 3.0, 0.0]]   \n",
       "2  [[1.0, 1.0, 0.0, 0.0, 1.0], [1.0, 2.0, 0.0, 0.0, 5.0], [4.0, 3.0, 0.0, 0.0, 4.0]]   \n",
       "3  [[1.0, 0.0, 1.0, 1.0, 0.0], [1.0, 0.0, 3.0, 4.0, 0.0], [4.0, 0.0, 3.0, 3.0, 0.0]]   \n",
       "4  [[1.0, 0.0, 1.0, 0.0, 1.0], [1.0, 0.0, 3.0, 0.0, 5.0], [4.0, 0.0, 3.0, 0.0, 4.0]]   \n",
       "5  [[1.0, 0.0, 0.0, 1.0, 1.0], [1.0, 0.0, 0.0, 4.0, 5.0], [4.0, 0.0, 0.0, 3.0, 4.0]]   \n",
       "6  [[0.0, 1.0, 1.0, 0.0, 1.0], [0.0, 2.0, 3.0, 0.0, 5.0], [0.0, 3.0, 3.0, 0.0, 4.0]]   \n",
       "7  [[0.0, 1.0, 0.0, 1.0, 1.0], [0.0, 2.0, 0.0, 4.0, 5.0], [0.0, 3.0, 0.0, 3.0, 4.0]]   \n",
       "8  [[0.0, 0.0, 1.0, 1.0, 1.0], [0.0, 0.0, 3.0, 4.0, 5.0], [0.0, 0.0, 3.0, 3.0, 4.0]]   \n",
       "\n",
       "                   Solucion  \n",
       "0     [[0.0], [1.0], [0.0]]  \n",
       "1     [[0.0], [1.0], [0.0]]  \n",
       "2     [[0.0], [1.0], [0.0]]  \n",
       "3    [[0.0], [2.0], [-1.0]]  \n",
       "4  [[0.25], [1.0], [-0.25]]  \n",
       "5    [[0.5], [1.0], [-0.5]]  \n",
       "6    [[1.0], [0.0], [-0.0]]  \n",
       "7    [[1.0], [0.0], [-0.0]]  \n",
       "8   [[2.0], [-1.0], [-0.0]]  "
      ]
     },
     "metadata": {},
     "output_type": "display_data"
    }
   ],
   "source": [
    "pd.set_option(\"max_colwidth\",100)\n",
    "df_dir1 = pd.DataFrame(dir1)\n",
    "display (df_dir1)"
   ]
  },
  {
   "cell_type": "code",
   "execution_count": 51,
   "metadata": {
    "colab": {
     "base_uri": "https://localhost:8080/",
     "height": 112
    },
    "id": "rxQHODYlt2I8",
    "outputId": "cd5f211d-a378-4739-f0a6-408729691c29"
   },
   "outputs": [
    {
     "data": {
      "text/html": [
       "<div>\n",
       "<style scoped>\n",
       "    .dataframe tbody tr th:only-of-type {\n",
       "        vertical-align: middle;\n",
       "    }\n",
       "\n",
       "    .dataframe tbody tr th {\n",
       "        vertical-align: top;\n",
       "    }\n",
       "\n",
       "    .dataframe thead th {\n",
       "        text-align: right;\n",
       "    }\n",
       "</style>\n",
       "<table border=\"1\" class=\"dataframe\">\n",
       "  <thead>\n",
       "    <tr style=\"text-align: right;\">\n",
       "      <th></th>\n",
       "      <th>Base</th>\n",
       "      <th>Solucion</th>\n",
       "    </tr>\n",
       "  </thead>\n",
       "  <tbody>\n",
       "    <tr>\n",
       "      <th>0</th>\n",
       "      <td>[[0.0, 1.0, 1.0, 0.0, 1.0], [0.0, 2.0, 3.0, 0.0, 5.0], [0.0, 3.0, 4.0, 0.0, 6.0]]</td>\n",
       "      <td>[[0.5], [0.75], [-0.25]]</td>\n",
       "    </tr>\n",
       "    <tr>\n",
       "      <th>1</th>\n",
       "      <td>[[0.0, 1.0, 0.0, 1.0, 1.0], [0.0, 2.0, 0.0, 4.0, 5.0], [0.0, 3.0, 0.0, 5.0, 6.0]]</td>\n",
       "      <td>[[0.875], [0.375], [-0.25]]</td>\n",
       "    </tr>\n",
       "  </tbody>\n",
       "</table>\n",
       "</div>"
      ],
      "text/plain": [
       "                                                                                Base  \\\n",
       "0  [[0.0, 1.0, 1.0, 0.0, 1.0], [0.0, 2.0, 3.0, 0.0, 5.0], [0.0, 3.0, 4.0, 0.0, 6.0]]   \n",
       "1  [[0.0, 1.0, 0.0, 1.0, 1.0], [0.0, 2.0, 0.0, 4.0, 5.0], [0.0, 3.0, 0.0, 5.0, 6.0]]   \n",
       "\n",
       "                      Solucion  \n",
       "0     [[0.5], [0.75], [-0.25]]  \n",
       "1  [[0.875], [0.375], [-0.25]]  "
      ]
     },
     "metadata": {},
     "output_type": "display_data"
    }
   ],
   "source": [
    "pd.set_option(\"max_colwidth\",100)\n",
    "df_dir2 = pd.DataFrame(dir2)\n",
    "display (df_dir2)"
   ]
  },
  {
   "cell_type": "code",
   "execution_count": 52,
   "metadata": {
    "colab": {
     "base_uri": "https://localhost:8080/",
     "height": 143
    },
    "id": "Uaf4rirEt2I8",
    "outputId": "417fbe16-0bea-4925-8bff-52a4f765eeee"
   },
   "outputs": [
    {
     "data": {
      "text/html": [
       "<div>\n",
       "<style scoped>\n",
       "    .dataframe tbody tr th:only-of-type {\n",
       "        vertical-align: middle;\n",
       "    }\n",
       "\n",
       "    .dataframe tbody tr th {\n",
       "        vertical-align: top;\n",
       "    }\n",
       "\n",
       "    .dataframe thead th {\n",
       "        text-align: right;\n",
       "    }\n",
       "</style>\n",
       "<table border=\"1\" class=\"dataframe\">\n",
       "  <thead>\n",
       "    <tr style=\"text-align: right;\">\n",
       "      <th></th>\n",
       "      <th>Base</th>\n",
       "      <th>Solucion</th>\n",
       "    </tr>\n",
       "  </thead>\n",
       "  <tbody>\n",
       "    <tr>\n",
       "      <th>0</th>\n",
       "      <td>[[1.0, 1.0, 0.0, 3.0], [1.0, 2.0, 0.0, 4.0], [2.0, 3.0, 0.0, 5.0]]</td>\n",
       "      <td>[[0.0], [1.0], [0.0]]</td>\n",
       "    </tr>\n",
       "    <tr>\n",
       "      <th>1</th>\n",
       "      <td>[[1.0, 0.0, 1.0, 3.0], [1.0, 0.0, 3.0, 4.0], [2.0, 0.0, 4.0, 5.0]]</td>\n",
       "      <td>[[0.5], [0.5], [0.0]]</td>\n",
       "    </tr>\n",
       "    <tr>\n",
       "      <th>2</th>\n",
       "      <td>[[0.0, 1.0, 1.0, 3.0], [0.0, 2.0, 3.0, 4.0], [0.0, 3.0, 4.0, 5.0]]</td>\n",
       "      <td>[[1.0], [0.0], [0.0]]</td>\n",
       "    </tr>\n",
       "  </tbody>\n",
       "</table>\n",
       "</div>"
      ],
      "text/plain": [
       "                                                                 Base  \\\n",
       "0  [[1.0, 1.0, 0.0, 3.0], [1.0, 2.0, 0.0, 4.0], [2.0, 3.0, 0.0, 5.0]]   \n",
       "1  [[1.0, 0.0, 1.0, 3.0], [1.0, 0.0, 3.0, 4.0], [2.0, 0.0, 4.0, 5.0]]   \n",
       "2  [[0.0, 1.0, 1.0, 3.0], [0.0, 2.0, 3.0, 4.0], [0.0, 3.0, 4.0, 5.0]]   \n",
       "\n",
       "                Solucion  \n",
       "0  [[0.0], [1.0], [0.0]]  \n",
       "1  [[0.5], [0.5], [0.0]]  \n",
       "2  [[1.0], [0.0], [0.0]]  "
      ]
     },
     "metadata": {},
     "output_type": "display_data"
    }
   ],
   "source": [
    "#Ejemplo \n",
    "A3 = np.array([[1 ,1,1,3 ],[1,2,3,4], [2,3,4,5]])\n",
    "b1 = np.array([[1],[2],[3]])\n",
    "dir3 = soluciones_basicas(A3,b1)\n",
    "pd.set_option(\"max_colwidth\",100)\n",
    "df_dir3 = pd.DataFrame(dir3)\n",
    "display (df_dir3)"
   ]
  },
  {
   "cell_type": "markdown",
   "metadata": {
    "id": "w3Iaa1kxt2I8"
   },
   "source": [
    "## Segundo Punto"
   ]
  },
  {
   "cell_type": "markdown",
   "metadata": {
    "id": "Ab1cUpfNt2I8"
   },
   "source": [
    "### a) \n",
    "\n",
    "#### 1)\n",
    "Las variables del problema son la cantidad de toneladas de carbón (C), petroleo (P) y gas(G) que serán utilizadas para producir energía.\n",
    "#### 2) \n",
    "La función de costo del ejercicio es:\n",
    "\n",
    "f(x) = 600C + 550P + 500G\n",
    "\n",
    "La función representa la cantidad máxima de energía [KW]  que puede ser generada en un día dentro de la planta generadora.  \n",
    "#### 3)\n",
    "Restricciones:\n",
    "\n",
    "\n",
    "*   20C + 18P + 15G <= 60\n",
    "*   15C + 12P + 10G <= 75\n",
    "*   200C + 220P + 250G <= 2000\n",
    "*   C,P,G >= 0\n",
    "\n",
    "#### 4) \n",
    "Planteamiento del problema PL:\n",
    "\n",
    "Fórma estandar: \n",
    "\n",
    "min f(x) =  -600C - 550P - 500G\n",
    "sujeto a:\n",
    "*   20C + 18P + 15G +s1  = 60\n",
    "*   15C + 12P + 10G + s2 = 75\n",
    "*   200C + 220P + 250G +s3 = 2000\n",
    "*   C,P,G, s1,s2,s3 >= 0\n",
    "\n",
    "Ax = b:\n",
    "\n",
    "$\n",
    "\\left[\n",
    "\\begin{array}{ll}\n",
    "20  & 18 & 15 & 1 & 0 & 0 \\\\\n",
    "15 & 12 & 10  & 0& 1 & 0 \\\\\n",
    "200  & 220 & 250 & 0& 0& 1 \n",
    "\\end{array}\n",
    "\\right]\n",
    "$ \n",
    "$\n",
    "\\left[\n",
    "\\begin{array}{ll}\n",
    "C\\\\\n",
    "P\\\\\n",
    "G\\\\\n",
    "s1\\\\\n",
    "s2\\\\\n",
    "s2\\\\\n",
    "\\end{array}\n",
    "\\right]\n",
    "$\n",
    "$=$\n",
    "$\\left[\n",
    "\\begin{array}{ll}\n",
    "60\\\\\n",
    "75\\\\\n",
    "2000\n",
    "\\end{array}\n",
    "\\right]\n",
    "$ \n",
    "\n",
    "\n",
    "\n",
    "Planteamiento sin variables slack: \n",
    "\n",
    "min f(x) =  -600C - 550P - 500G\n",
    "\n",
    "sujeto a:\n",
    "*   20C + 18P + 15G <= 60\n",
    "*   15C + 12P + 10G <= 75\n",
    "*   200C + 220P + 250G <= 2000\n",
    "*   C,P,G >= 0\n",
    "\n",
    "Ax = b:\n",
    "\n",
    "$\n",
    "\\left[\n",
    "\\begin{array}{ll}\n",
    "20  & 18 & 15  \\\\\n",
    "15 & 12 & 10   \\\\\n",
    "200  & 220 & 250  \n",
    "\\end{array}\n",
    "\\right]\n",
    "$ \n",
    "$\n",
    "\\left[\n",
    "\\begin{array}{ll}\n",
    "C\\\\\n",
    "P\\\\\n",
    "G\n",
    "\\end{array}\n",
    "\\right]\n",
    "$\n",
    "$=$\n",
    "$\\left[\n",
    "\\begin{array}{ll}\n",
    "60\\\\\n",
    "75\\\\\n",
    "2000\n",
    "\\end{array}\n",
    "\\right]\n",
    "$ \n",
    "\n",
    "\n",
    "\n",
    "\n",
    "\n"
   ]
  },
  {
   "cell_type": "markdown",
   "metadata": {
    "id": "zG04GW4kt2I9"
   },
   "source": [
    "### b)"
   ]
  },
  {
   "cell_type": "code",
   "execution_count": 86,
   "metadata": {},
   "outputs": [],
   "source": [
    "def PL ():\n",
    "    print (\"Bienvenido, a continuación va a introducir las restricciones del problema de PL en forma estándar, por favor siga las instrucciones!!\")\n",
    "    f1 = input( \"Introduza la primera fila de la matriz de restricciones (A) separado por comas sin ningún paréntesis. \\nEj: 1,2,3\").split(\",\")\n",
    "    f2=input( \"Introduza la segunda fila de la matriz de restricciones (A) separado por comas sin ningún paréntesis. \\nEj: 1,2,3\").split(\",\")\n",
    "    f3=input( \"Introduza la tercera fila de la matriz de restricciones (A) separado por comas sin ningún paréntesis. \\nEj: 1,2,3\").split(\",\")\n",
    "    b = input (\"Introduzca el vector de igualdad de las restricciones (b) separado por comas sin paréntesis\").split(\",\")\n",
    "    A = np.array([list(map(int, f1)),list(map(int, f2)),list(map(int, f3))])\n",
    "    b = np.array([[int((b)[0])],[int((b)[1])],[int((b)[2])]])\n",
    "    # Se crea la matriz A y el vector B para tener un problema de optimización de forma estandar\n",
    "    # Se implementa la función del punto 1 para encontrar las distintas soluciones basicas que tiene el problema de optimización\n",
    "    \n",
    "    inicio = time.time()\n",
    "    dir4 = soluciones_basicas(A,b)\n",
    "    # Se inicializa el vector que guardara el tipo de solución que se presenta\n",
    "    tip_sol = []\n",
    "    # Se inicializa el vector que guardara el Valor dado por la solución presentada\n",
    "    val = []\n",
    "    # Se crea el diccionario que se utilizara para realizar la impresión de la tabla\n",
    "    rta = {\"Solucion\": dir4[\"Solucion\"],\n",
    "            \"Base\": dir4[\"Base\"],\n",
    "            \"Tipo de solucion\": tip_sol,\n",
    "            \"Valor\": val\n",
    "            }\n",
    "    # Para encontrar el tipo de solución se va a hacer un recorrido por las soluciones basicas encontradas en el anterior literal\n",
    "    for i in dir4[\"Solucion\"]:\n",
    "        agregar = \"Solucion basica factible\" # El estado por defecto va a ser una solución basica factible\n",
    "        for j in i: # Se recorre cada valor dado en la solucion para encontrar que cumplan con la condicion de factibilidad, todos deben ser mayor o igual a cero\n",
    "            if j <= -0.0: # Si se encuentra un valor negativo entrar a cambiar el valor default de solución basica factible por solucion basica no factible\n",
    "                agregar = \"Solucion basica no factible\" \n",
    "                break # Como ya se encontro un valor negativo no es necesario seguir recorriendo los demás valores y salta a la siguiente solucion\n",
    "        tip_sol.append(agregar) # Se agrega el tipo de solución a la lista que contendra el tipo de solucion\n",
    "    # Se inicializa la variable que va a recorrer las soluciones basicas encontradas\n",
    "    d = 0\n",
    "    # Se crea el vector que va a contener la funcion de costos a evaluar\n",
    "    fun = [-600, -550, -500]\n",
    "    # Se inicia el recorrido por la bases de las soluciones basicas encontradas\n",
    "    for i in dir4[\"Base\"]:\n",
    "            anadir = 0 # Se inicializa el valor evaluado que se agregara a la lista de valor obtenida al evaluar la solucion en la función de costos\n",
    "            f = 0 # Se inicializa la variable que va a recorrer cada valor de la solucion actual\n",
    "            c = 0 # Se inicializa la variable que va a recorrer la posicion actual de la funcion de costos\n",
    "            for j in i[0]: # Se recorre el primer vector entregado por la base\n",
    "                    if j > 0.0:\n",
    "                            anadir += dir4[\"Solucion\"][d][f]*fun[c] # Se agrega valor a la variable que tendra la evaluacion de la función de costos\n",
    "                            f += 1 # Se avanza una posición en el vector solución\n",
    "                    c += 1 # Se avanza una posición en la función de costos\n",
    "                    if c == 3: # Una vez avance por todas las posiciones de la funcion de costos pasar a la siguiente solucion basica\n",
    "                            break\n",
    "            val.append(-anadir) # Se agrega la evaluacion de la solucion actual en la funcion de costos a la lista que tiene el valor de la solucion actual en la funcion de costos\n",
    "                                # Este valor se multiplica por - para tener de esta forma un resultado del problema maximizado y no minimizado\n",
    "            d += 1 # Se avanza a la siguiente solucion basica\n",
    "        # Se implementa el codigo necesario para usar la función display y mostrar los resultados en la tabla esperada\n",
    "    \n",
    "    fin = time.time()\n",
    "     \n",
    "    pd.set_option(\"max_colwidth\",100)\n",
    "    df_dir6 = pd.DataFrame(rta)\n",
    "    display (df_dir6)\n",
    "    print(f\"Tiempo de ejecución del algoritmo: {fin-inicio}\")\n",
    "\n",
    "    "
   ]
  },
  {
   "cell_type": "markdown",
   "metadata": {},
   "source": [
    "#### 1,2,3,4\n"
   ]
  },
  {
   "cell_type": "code",
   "execution_count": 87,
   "metadata": {},
   "outputs": [
    {
     "name": "stdout",
     "output_type": "stream",
     "text": [
      "Bienvenido, a continuación va a introducir las restricciones del problema de PL en forma estándar, por favor siga las instrucciones!!\n"
     ]
    },
    {
     "data": {
      "text/html": [
       "<div>\n",
       "<style scoped>\n",
       "    .dataframe tbody tr th:only-of-type {\n",
       "        vertical-align: middle;\n",
       "    }\n",
       "\n",
       "    .dataframe tbody tr th {\n",
       "        vertical-align: top;\n",
       "    }\n",
       "\n",
       "    .dataframe thead th {\n",
       "        text-align: right;\n",
       "    }\n",
       "</style>\n",
       "<table border=\"1\" class=\"dataframe\">\n",
       "  <thead>\n",
       "    <tr style=\"text-align: right;\">\n",
       "      <th></th>\n",
       "      <th>Base</th>\n",
       "      <th>Solucion</th>\n",
       "      <th>Tipo de solucion</th>\n",
       "      <th>Valor</th>\n",
       "    </tr>\n",
       "  </thead>\n",
       "  <tbody>\n",
       "    <tr>\n",
       "      <th>0</th>\n",
       "      <td>[[20.0, 18.0, 15.0, 0.0, 0.0, 0.0], [15.0, 12.0, 10.0, 0.0, 0.0, 0.0], [200.0, 220.0, 250.0, 0.0...</td>\n",
       "      <td>[[21.0], [-47.5], [33.0]]</td>\n",
       "      <td>Solucion basica no factible</td>\n",
       "      <td>[2975.0]</td>\n",
       "    </tr>\n",
       "    <tr>\n",
       "      <th>1</th>\n",
       "      <td>[[20.0, 18.0, 0.0, 1.0, 0.0, 0.0], [15.0, 12.0, 0.0, 0.0, 0.0, 0.0], [200.0, 220.0, 0.0, 0.0, 0....</td>\n",
       "      <td>[[-8.33333], [16.66667], [-73.33333]]</td>\n",
       "      <td>Solucion basica no factible</td>\n",
       "      <td>[4166.670499999999]</td>\n",
       "    </tr>\n",
       "    <tr>\n",
       "      <th>2</th>\n",
       "      <td>[[20.0, 18.0, 0.0, 0.0, 0.0, 0.0], [15.0, 12.0, 0.0, 0.0, 1.0, 0.0], [200.0, 220.0, 0.0, 0.0, 0....</td>\n",
       "      <td>[[-28.5], [35.0], [82.5]]</td>\n",
       "      <td>Solucion basica no factible</td>\n",
       "      <td>[2150.0]</td>\n",
       "    </tr>\n",
       "    <tr>\n",
       "      <th>3</th>\n",
       "      <td>[[20.0, 18.0, 0.0, 0.0, 0.0, 0.0], [15.0, 12.0, 0.0, 0.0, 0.0, 0.0], [200.0, 220.0, 0.0, 0.0, 0....</td>\n",
       "      <td>[[21.0], [-20.0], [2200.0]]</td>\n",
       "      <td>Solucion basica no factible</td>\n",
       "      <td>[1600.0]</td>\n",
       "    </tr>\n",
       "    <tr>\n",
       "      <th>4</th>\n",
       "      <td>[[20.0, 0.0, 15.0, 1.0, 0.0, 0.0], [15.0, 0.0, 10.0, 0.0, 0.0, 0.0], [200.0, 0.0, 250.0, 0.0, 0....</td>\n",
       "      <td>[[-0.71429], [8.57143], [-54.28571]]</td>\n",
       "      <td>Solucion basica no factible</td>\n",
       "      <td>[3857.141]</td>\n",
       "    </tr>\n",
       "    <tr>\n",
       "      <th>5</th>\n",
       "      <td>[[20.0, 0.0, 15.0, 0.0, 0.0, 0.0], [15.0, 0.0, 10.0, 0.0, 1.0, 0.0], [200.0, 0.0, 250.0, 0.0, 0....</td>\n",
       "      <td>[[-7.5], [14.0], [47.5]]</td>\n",
       "      <td>Solucion basica no factible</td>\n",
       "      <td>[2500.0]</td>\n",
       "    </tr>\n",
       "    <tr>\n",
       "      <th>6</th>\n",
       "      <td>[[20.0, 0.0, 15.0, 0.0, 0.0, 0.0], [15.0, 0.0, 10.0, 0.0, 0.0, 0.0], [200.0, 0.0, 250.0, 0.0, 0....</td>\n",
       "      <td>[[21.0], [-24.0], [3800.0]]</td>\n",
       "      <td>Solucion basica no factible</td>\n",
       "      <td>[600.0]</td>\n",
       "    </tr>\n",
       "    <tr>\n",
       "      <th>7</th>\n",
       "      <td>[[20.0, 0.0, 0.0, 1.0, 0.0, 0.0], [15.0, 0.0, 0.0, 0.0, 1.0, 0.0], [200.0, 0.0, 0.0, 0.0, 0.0, 0...</td>\n",
       "      <td>[[10.0], [-140.0], [-75.0]]</td>\n",
       "      <td>Solucion basica no factible</td>\n",
       "      <td>[6000.0]</td>\n",
       "    </tr>\n",
       "    <tr>\n",
       "      <th>8</th>\n",
       "      <td>[[20.0, 0.0, 0.0, 1.0, 0.0, 0.0], [15.0, 0.0, 0.0, 0.0, 0.0, 0.0], [200.0, 0.0, 0.0, 0.0, 0.0, 1...</td>\n",
       "      <td>[[5.0], [-40.0], [1000.0]]</td>\n",
       "      <td>Solucion basica no factible</td>\n",
       "      <td>[3000.0]</td>\n",
       "    </tr>\n",
       "    <tr>\n",
       "      <th>9</th>\n",
       "      <td>[[20.0, 0.0, 0.0, 0.0, 0.0, 0.0], [15.0, 0.0, 0.0, 0.0, 1.0, 0.0], [200.0, 0.0, 0.0, 0.0, 0.0, 1...</td>\n",
       "      <td>[[3.0], [30.0], [1400.0]]</td>\n",
       "      <td>Solucion basica factible</td>\n",
       "      <td>[1800.0]</td>\n",
       "    </tr>\n",
       "    <tr>\n",
       "      <th>10</th>\n",
       "      <td>[[0.0, 18.0, 15.0, 1.0, 0.0, 0.0], [0.0, 12.0, 10.0, 0.0, 0.0, 0.0], [0.0, 220.0, 250.0, 0.0, 0....</td>\n",
       "      <td>[[-1.5625], [9.375], [-52.5]]</td>\n",
       "      <td>Solucion basica no factible</td>\n",
       "      <td>[3828.125]</td>\n",
       "    </tr>\n",
       "    <tr>\n",
       "      <th>11</th>\n",
       "      <td>[[0.0, 18.0, 15.0, 0.0, 0.0, 0.0], [0.0, 12.0, 10.0, 0.0, 1.0, 0.0], [0.0, 220.0, 250.0, 0.0, 0....</td>\n",
       "      <td>[[-12.5], [19.0], [35.0]]</td>\n",
       "      <td>Solucion basica no factible</td>\n",
       "      <td>[2625.0]</td>\n",
       "    </tr>\n",
       "    <tr>\n",
       "      <th>12</th>\n",
       "      <td>[[0.0, 18.0, 15.0, 0.0, 0.0, 0.0], [0.0, 12.0, 10.0, 0.0, 0.0, 0.0], [0.0, 220.0, 250.0, 0.0, 0....</td>\n",
       "      <td>[[-4.464942119839421e+16], [5.357930543807305e+16], [-3.571953695871534e+18]]</td>\n",
       "      <td>Solucion basica no factible</td>\n",
       "      <td>[2.2324710599197082e+18]</td>\n",
       "    </tr>\n",
       "    <tr>\n",
       "      <th>13</th>\n",
       "      <td>[[0.0, 18.0, 0.0, 1.0, 0.0, 0.0], [0.0, 12.0, 0.0, 0.0, 1.0, 0.0], [0.0, 220.0, 0.0, 0.0, 0.0, 0...</td>\n",
       "      <td>[[9.09091], [-103.63636], [-34.09091]]</td>\n",
       "      <td>Solucion basica no factible</td>\n",
       "      <td>[5000.000499999999]</td>\n",
       "    </tr>\n",
       "    <tr>\n",
       "      <th>14</th>\n",
       "      <td>[[0.0, 18.0, 0.0, 1.0, 0.0, 0.0], [0.0, 12.0, 0.0, 0.0, 0.0, 0.0], [0.0, 220.0, 0.0, 0.0, 0.0, 1...</td>\n",
       "      <td>[[6.25], [-52.5], [625.0]]</td>\n",
       "      <td>Solucion basica no factible</td>\n",
       "      <td>[3437.5]</td>\n",
       "    </tr>\n",
       "    <tr>\n",
       "      <th>15</th>\n",
       "      <td>[[0.0, 18.0, 0.0, 0.0, 0.0, 0.0], [0.0, 12.0, 0.0, 0.0, 1.0, 0.0], [0.0, 220.0, 0.0, 0.0, 0.0, 1...</td>\n",
       "      <td>[[3.33333], [35.0], [1266.66667]]</td>\n",
       "      <td>Solucion basica factible</td>\n",
       "      <td>[1833.3315]</td>\n",
       "    </tr>\n",
       "    <tr>\n",
       "      <th>16</th>\n",
       "      <td>[[0.0, 0.0, 15.0, 1.0, 0.0, 0.0], [0.0, 0.0, 10.0, 0.0, 1.0, 0.0], [0.0, 0.0, 250.0, 0.0, 0.0, 0...</td>\n",
       "      <td>[[8.0], [-60.0], [-5.0]]</td>\n",
       "      <td>Solucion basica no factible</td>\n",
       "      <td>[4000.0]</td>\n",
       "    </tr>\n",
       "    <tr>\n",
       "      <th>17</th>\n",
       "      <td>[[0.0, 0.0, 15.0, 1.0, 0.0, 0.0], [0.0, 0.0, 10.0, 0.0, 0.0, 0.0], [0.0, 0.0, 250.0, 0.0, 0.0, 1...</td>\n",
       "      <td>[[7.5], [-52.5], [125.0]]</td>\n",
       "      <td>Solucion basica no factible</td>\n",
       "      <td>[3750.0]</td>\n",
       "    </tr>\n",
       "    <tr>\n",
       "      <th>18</th>\n",
       "      <td>[[0.0, 0.0, 15.0, 0.0, 0.0, 0.0], [0.0, 0.0, 10.0, 0.0, 1.0, 0.0], [0.0, 0.0, 250.0, 0.0, 0.0, 1...</td>\n",
       "      <td>[[4.0], [35.0], [1000.0]]</td>\n",
       "      <td>Solucion basica factible</td>\n",
       "      <td>[2000.0]</td>\n",
       "    </tr>\n",
       "    <tr>\n",
       "      <th>19</th>\n",
       "      <td>[[0.0, 0.0, 0.0, 1.0, 0.0, 0.0], [0.0, 0.0, 0.0, 0.0, 1.0, 0.0], [0.0, 0.0, 0.0, 0.0, 0.0, 1.0]]</td>\n",
       "      <td>[[60.0], [75.0], [2000.0]]</td>\n",
       "      <td>Solucion basica factible</td>\n",
       "      <td>0</td>\n",
       "    </tr>\n",
       "  </tbody>\n",
       "</table>\n",
       "</div>"
      ],
      "text/plain": [
       "                                                                                                   Base  \\\n",
       "0   [[20.0, 18.0, 15.0, 0.0, 0.0, 0.0], [15.0, 12.0, 10.0, 0.0, 0.0, 0.0], [200.0, 220.0, 250.0, 0.0...   \n",
       "1   [[20.0, 18.0, 0.0, 1.0, 0.0, 0.0], [15.0, 12.0, 0.0, 0.0, 0.0, 0.0], [200.0, 220.0, 0.0, 0.0, 0....   \n",
       "2   [[20.0, 18.0, 0.0, 0.0, 0.0, 0.0], [15.0, 12.0, 0.0, 0.0, 1.0, 0.0], [200.0, 220.0, 0.0, 0.0, 0....   \n",
       "3   [[20.0, 18.0, 0.0, 0.0, 0.0, 0.0], [15.0, 12.0, 0.0, 0.0, 0.0, 0.0], [200.0, 220.0, 0.0, 0.0, 0....   \n",
       "4   [[20.0, 0.0, 15.0, 1.0, 0.0, 0.0], [15.0, 0.0, 10.0, 0.0, 0.0, 0.0], [200.0, 0.0, 250.0, 0.0, 0....   \n",
       "5   [[20.0, 0.0, 15.0, 0.0, 0.0, 0.0], [15.0, 0.0, 10.0, 0.0, 1.0, 0.0], [200.0, 0.0, 250.0, 0.0, 0....   \n",
       "6   [[20.0, 0.0, 15.0, 0.0, 0.0, 0.0], [15.0, 0.0, 10.0, 0.0, 0.0, 0.0], [200.0, 0.0, 250.0, 0.0, 0....   \n",
       "7   [[20.0, 0.0, 0.0, 1.0, 0.0, 0.0], [15.0, 0.0, 0.0, 0.0, 1.0, 0.0], [200.0, 0.0, 0.0, 0.0, 0.0, 0...   \n",
       "8   [[20.0, 0.0, 0.0, 1.0, 0.0, 0.0], [15.0, 0.0, 0.0, 0.0, 0.0, 0.0], [200.0, 0.0, 0.0, 0.0, 0.0, 1...   \n",
       "9   [[20.0, 0.0, 0.0, 0.0, 0.0, 0.0], [15.0, 0.0, 0.0, 0.0, 1.0, 0.0], [200.0, 0.0, 0.0, 0.0, 0.0, 1...   \n",
       "10  [[0.0, 18.0, 15.0, 1.0, 0.0, 0.0], [0.0, 12.0, 10.0, 0.0, 0.0, 0.0], [0.0, 220.0, 250.0, 0.0, 0....   \n",
       "11  [[0.0, 18.0, 15.0, 0.0, 0.0, 0.0], [0.0, 12.0, 10.0, 0.0, 1.0, 0.0], [0.0, 220.0, 250.0, 0.0, 0....   \n",
       "12  [[0.0, 18.0, 15.0, 0.0, 0.0, 0.0], [0.0, 12.0, 10.0, 0.0, 0.0, 0.0], [0.0, 220.0, 250.0, 0.0, 0....   \n",
       "13  [[0.0, 18.0, 0.0, 1.0, 0.0, 0.0], [0.0, 12.0, 0.0, 0.0, 1.0, 0.0], [0.0, 220.0, 0.0, 0.0, 0.0, 0...   \n",
       "14  [[0.0, 18.0, 0.0, 1.0, 0.0, 0.0], [0.0, 12.0, 0.0, 0.0, 0.0, 0.0], [0.0, 220.0, 0.0, 0.0, 0.0, 1...   \n",
       "15  [[0.0, 18.0, 0.0, 0.0, 0.0, 0.0], [0.0, 12.0, 0.0, 0.0, 1.0, 0.0], [0.0, 220.0, 0.0, 0.0, 0.0, 1...   \n",
       "16  [[0.0, 0.0, 15.0, 1.0, 0.0, 0.0], [0.0, 0.0, 10.0, 0.0, 1.0, 0.0], [0.0, 0.0, 250.0, 0.0, 0.0, 0...   \n",
       "17  [[0.0, 0.0, 15.0, 1.0, 0.0, 0.0], [0.0, 0.0, 10.0, 0.0, 0.0, 0.0], [0.0, 0.0, 250.0, 0.0, 0.0, 1...   \n",
       "18  [[0.0, 0.0, 15.0, 0.0, 0.0, 0.0], [0.0, 0.0, 10.0, 0.0, 1.0, 0.0], [0.0, 0.0, 250.0, 0.0, 0.0, 1...   \n",
       "19     [[0.0, 0.0, 0.0, 1.0, 0.0, 0.0], [0.0, 0.0, 0.0, 0.0, 1.0, 0.0], [0.0, 0.0, 0.0, 0.0, 0.0, 1.0]]   \n",
       "\n",
       "                                                                         Solucion  \\\n",
       "0                                                       [[21.0], [-47.5], [33.0]]   \n",
       "1                                           [[-8.33333], [16.66667], [-73.33333]]   \n",
       "2                                                       [[-28.5], [35.0], [82.5]]   \n",
       "3                                                     [[21.0], [-20.0], [2200.0]]   \n",
       "4                                            [[-0.71429], [8.57143], [-54.28571]]   \n",
       "5                                                        [[-7.5], [14.0], [47.5]]   \n",
       "6                                                     [[21.0], [-24.0], [3800.0]]   \n",
       "7                                                     [[10.0], [-140.0], [-75.0]]   \n",
       "8                                                      [[5.0], [-40.0], [1000.0]]   \n",
       "9                                                       [[3.0], [30.0], [1400.0]]   \n",
       "10                                                  [[-1.5625], [9.375], [-52.5]]   \n",
       "11                                                      [[-12.5], [19.0], [35.0]]   \n",
       "12  [[-4.464942119839421e+16], [5.357930543807305e+16], [-3.571953695871534e+18]]   \n",
       "13                                         [[9.09091], [-103.63636], [-34.09091]]   \n",
       "14                                                     [[6.25], [-52.5], [625.0]]   \n",
       "15                                              [[3.33333], [35.0], [1266.66667]]   \n",
       "16                                                       [[8.0], [-60.0], [-5.0]]   \n",
       "17                                                      [[7.5], [-52.5], [125.0]]   \n",
       "18                                                      [[4.0], [35.0], [1000.0]]   \n",
       "19                                                     [[60.0], [75.0], [2000.0]]   \n",
       "\n",
       "               Tipo de solucion                     Valor  \n",
       "0   Solucion basica no factible                  [2975.0]  \n",
       "1   Solucion basica no factible       [4166.670499999999]  \n",
       "2   Solucion basica no factible                  [2150.0]  \n",
       "3   Solucion basica no factible                  [1600.0]  \n",
       "4   Solucion basica no factible                [3857.141]  \n",
       "5   Solucion basica no factible                  [2500.0]  \n",
       "6   Solucion basica no factible                   [600.0]  \n",
       "7   Solucion basica no factible                  [6000.0]  \n",
       "8   Solucion basica no factible                  [3000.0]  \n",
       "9      Solucion basica factible                  [1800.0]  \n",
       "10  Solucion basica no factible                [3828.125]  \n",
       "11  Solucion basica no factible                  [2625.0]  \n",
       "12  Solucion basica no factible  [2.2324710599197082e+18]  \n",
       "13  Solucion basica no factible       [5000.000499999999]  \n",
       "14  Solucion basica no factible                  [3437.5]  \n",
       "15     Solucion basica factible               [1833.3315]  \n",
       "16  Solucion basica no factible                  [4000.0]  \n",
       "17  Solucion basica no factible                  [3750.0]  \n",
       "18     Solucion basica factible                  [2000.0]  \n",
       "19     Solucion basica factible                         0  "
      ]
     },
     "metadata": {},
     "output_type": "display_data"
    },
    {
     "name": "stdout",
     "output_type": "stream",
     "text": [
      "Tiempo de ejecución del algoritmo: 0.0024712085723876953\n"
     ]
    }
   ],
   "source": [
    "PL()"
   ]
  },
  {
   "cell_type": "markdown",
   "metadata": {},
   "source": [
    "#### c)"
   ]
  },
  {
   "cell_type": "code",
   "execution_count": 80,
   "metadata": {
    "id": "i9louL3Qt2I-"
   },
   "outputs": [],
   "source": [
    "#vector con los coeficientes de la funcion a minimizar\n",
    "c = [-600, -550 ,-500]\n",
    "#matriz con los coeficientes de restricciones\n",
    "A = [[20, 18,15], [15,12,10], [200,220,250]]\n",
    "# vector de restricciones\n",
    "b = [60,75,2000]\n",
    "# límite de las variables para asegurar que sean positivas\n",
    "C_bounds = (0, None)\n",
    "P_bounds = (0, None)\n",
    "G_bounds = (0, None)"
   ]
  },
  {
   "cell_type": "code",
   "execution_count": 81,
   "metadata": {},
   "outputs": [
    {
     "name": "stdout",
     "output_type": "stream",
     "text": [
      "Resultados con revised simplex:\n",
      "La mayor cantidad de energía que se puede producir es 2000.0 kW, la cual se genera con [0. 0. 4.] toneladas de carbón, petrole y gas, respectivamente.\n",
      "Tiempo de ejecución del algoritmo: 0.0038957595825195312\n"
     ]
    }
   ],
   "source": [
    "\n",
    "#Solución al sistema con método revised simplex\n",
    "inicio = time.time()#medicion de timepo\n",
    "res_rs = linprog(c, A_ub=A, b_ub=b, bounds=[C_bounds, P_bounds,G_bounds], method='revised simplex', x0=None)\n",
    "fin = time.time()#medicion de timepo\n",
    "\n",
    "#Valores de C, P yG\n",
    "valores = res_rs.x\n",
    "#Valor de función maximizada.\n",
    "energia = abs(res_rs.fun)\n",
    "print(\"Resultados con revised simplex:\")\n",
    "print (f\"La mayor cantidad de energía que se puede producir es {energia} kW, la cual se genera con {valores} toneladas de carbón, petrole y gas, respectivamente.\")\n",
    "print(f\"Tiempo de ejecución del algoritmo: {fin-inicio}\")"
   ]
  },
  {
   "cell_type": "code",
   "execution_count": 82,
   "metadata": {},
   "outputs": [
    {
     "name": "stdout",
     "output_type": "stream",
     "text": [
      "Resultados con  simplex:\n",
      "La mayor cantidad de energía que se puede producir es 2000.0 kW, la cual se genera con [0. 0. 4.] toneladas de carbón, petrole y gas, respectivamente.\n",
      "Tiempo de ejecución del algoritmo: 0.00331878662109375\n"
     ]
    }
   ],
   "source": [
    "\n",
    "#Solución al sistema con método simplex\n",
    "inicio = time.time() #medicion de tiempo\n",
    "res_s = linprog(c, A_ub=A, b_ub=b, bounds=[C_bounds, P_bounds,G_bounds], method='simplex', x0=None)\n",
    "fin = time.time() #medicion de tiempo\n",
    "#Valores de C, P yG\n",
    "valores = res_s.x\n",
    "#Valor de función maximizada.\n",
    "energia = abs(res_s.fun)\n",
    "\n",
    "print(\"Resultados con  simplex:\")\n",
    "print (f\"La mayor cantidad de energía que se puede producir es {energia} kW, la cual se genera con {valores} toneladas de carbón, petrole y gas, respectivamente.\")\n",
    "print(f\"Tiempo de ejecución del algoritmo: {fin-inicio}\")"
   ]
  },
  {
   "cell_type": "code",
   "execution_count": 83,
   "metadata": {},
   "outputs": [
    {
     "name": "stdout",
     "output_type": "stream",
     "text": [
      "Resultados con interior point:\n",
      "La mayor cantidad de energía que se puede producir es 2000.0 kW, la cual se genera con [0. 0. 4.] toneladas de carbón, petrole y gas, respectivamente.\n",
      "Tiempo de ejecución del algoritmo: 0.0039250850677490234\n"
     ]
    }
   ],
   "source": [
    "#Solución al sistema con método interior point\n",
    "inicio = time.time() \n",
    "res_ip = linprog(c, A_ub=A, b_ub=b, bounds=[C_bounds, P_bounds,G_bounds], method='simplex', x0=None)\n",
    "fin = time.time()#medicion de tiempo\n",
    "#Valores de C, P yG\n",
    "valores = res_ip.x\n",
    "#Valor de función maximizada.\n",
    "energia = abs(res_ip.fun)\n",
    "\n",
    "print(\"Resultados con interior point:\")\n",
    "print (f\"La mayor cantidad de energía que se puede producir es {energia} kW, la cual se genera con {valores} toneladas de carbón, petrole y gas, respectivamente.\")\n",
    "print(f\"Tiempo de ejecución del algoritmo: {fin-inicio}\")"
   ]
  },
  {
   "cell_type": "markdown",
   "metadata": {},
   "source": [
    "#### 3"
   ]
  },
  {
   "cell_type": "markdown",
   "metadata": {},
   "source": [
    "### Interpretación:\n",
    "Del anterior iteral se interpreta que el máximo de energía que se puede producir es de 2000kW y para producir dicha cantidad de energía solo se van a emplear 4 toneladas de gas natural y ninguna de carbón o petroleo.\n",
    "La razón por la que algunas de las soluciones basicas mostradas inicialmente no se puede implementar en la vida real, es que todas las variables deben ser positivas. Es decir, no se pueden emplear -x cantidad de carbón, petroleo o gas. \n",
    "En ese orden de ideas, la solución óptima es [0,0,4]"
   ]
  }
 ],
 "metadata": {
  "colab": {
   "collapsed_sections": [],
   "provenance": []
  },
  "kernelspec": {
   "display_name": "Python 3.7.7 64-bit",
   "language": "python",
   "name": "python3"
  },
  "language_info": {
   "codemirror_mode": {
    "name": "ipython",
    "version": 3
   },
   "file_extension": ".py",
   "mimetype": "text/x-python",
   "name": "python",
   "nbconvert_exporter": "python",
   "pygments_lexer": "ipython3",
   "version": "3.7.7"
  },
  "vscode": {
   "interpreter": {
    "hash": "d97d53c6a36cdc52d173c342b665c7df7dba6797ec1b59742566b20dd76198d5"
   }
  }
 },
 "nbformat": 4,
 "nbformat_minor": 1
}

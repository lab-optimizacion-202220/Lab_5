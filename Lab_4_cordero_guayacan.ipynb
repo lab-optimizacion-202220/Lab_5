{
 "cells": [
  {
   "cell_type": "markdown",
   "metadata": {
    "id": "tn-eQ8IZt2Iz"
   },
   "source": [
    "# Laboratorio 4 "
   ]
  },
  {
   "cell_type": "markdown",
   "metadata": {
    "id": "KoI3IbApt2I2"
   },
   "source": []
  },
  {
   "cell_type": "markdown",
   "metadata": {
    "id": "s-qsxaZZt2I2"
   },
   "source": [
    "## Primer punto\n",
    "\n",
    "### a)"
   ]
  },
  {
   "cell_type": "code",
   "execution_count": 32,
   "metadata": {
    "id": "x_p41rZdt2I2"
   },
   "outputs": [],
   "source": [
    "from matplotlib import pyplot, pylab, mlab\n",
    "from pylab import *\n",
    "from scipy.optimize import linprog\n",
    "import numpy as np\n",
    "import math \n",
    "from math import factorial\n",
    "from scipy.optimize import minimize\n",
    "import sympy as sym\n",
    "from itertools import combinations\n",
    "import pandas as pd\n",
    "import time\n",
    "from IPython.display import display\n"
   ]
  },
  {
   "cell_type": "code",
   "execution_count": 3,
   "metadata": {
    "id": "YIlCMslJt2I3"
   },
   "outputs": [],
   "source": [
    "def soluciones_basicas (A,b):\n",
    "    sol_bas = []\n",
    "    bases = []\n",
    "    columnas = np.size(A[0])\n",
    "    filas = np.size(b[:,0])\n",
    "    ans = {\"Solucion\": sol_bas,\n",
    "            \"Base\":bases  }\n",
    "    matrices = list (combinations(np.arange(0, columnas, 1),filas))\n",
    "    \n",
    "    for i in range(len(matrices)):\n",
    "        sub_A = []\n",
    "        base =np.zeros((filas,columnas))\n",
    "        for j in ((matrices[i])):\n",
    "                sub_A.append(A[:,j])\n",
    "        sub_A =  (np.array(sub_A)).transpose()\n",
    "        if np.linalg.det(sub_A) !=0:\n",
    "          aux  = np.linalg.solve(sub_A,b)\n",
    "          aux = np.round(aux,5)\n",
    "          base[:,list(matrices[i])]=sub_A# se reconstruye la matriz B con las 5 variables 2 en 0      \n",
    "          bases.append(base)\n",
    "          sol_bas.append(aux)\n",
    "          \n",
    "    return  ans"
   ]
  },
  {
   "cell_type": "markdown",
   "metadata": {
    "id": "A70qGIo1t2I5"
   },
   "source": [
    "### b)\n"
   ]
  },
  {
   "cell_type": "code",
   "execution_count": 4,
   "metadata": {
    "id": "opuABwsDt2I5"
   },
   "outputs": [],
   "source": [
    "#Se crean las matrices  y  vector que determinan el sistema de ecuaciones \n",
    "A1 = np.array([[1 ,1,1,1,1 ],[1,2,3,4,5], [4,3,3,3,4]])\n",
    "A2 = np.array([[1 ,1,1,1,1 ],[1,2,3,4,5], [2,3,4,5,6]])\n",
    "b=np.array([[1],[2],[3]])"
   ]
  },
  {
   "cell_type": "code",
   "execution_count": 5,
   "metadata": {
    "id": "6LaMpYRxt2I5"
   },
   "outputs": [],
   "source": [
    "#Resultados con matriz de rango completo.\n",
    "dir1 = soluciones_basicas(A1,b)\n"
   ]
  },
  {
   "cell_type": "code",
   "execution_count": 6,
   "metadata": {
    "id": "7CYrCRjOt2I6"
   },
   "outputs": [],
   "source": [
    "#Resultados con matriz de rango completo.\n",
    "dir2 = soluciones_basicas(A2,b)\n",
    "\n"
   ]
  },
  {
   "cell_type": "markdown",
   "metadata": {
    "id": "-N04-3Prt2I7"
   },
   "source": [
    "### C)\n"
   ]
  },
  {
   "cell_type": "code",
   "execution_count": 7,
   "metadata": {
    "colab": {
     "base_uri": "https://localhost:8080/",
     "height": 332
    },
    "id": "IBy9blPjt2I7",
    "outputId": "eef53ef1-f8b1-4608-b723-64b97c938cb7"
   },
   "outputs": [
    {
     "data": {
      "text/html": [
       "<div>\n",
       "<style scoped>\n",
       "    .dataframe tbody tr th:only-of-type {\n",
       "        vertical-align: middle;\n",
       "    }\n",
       "\n",
       "    .dataframe tbody tr th {\n",
       "        vertical-align: top;\n",
       "    }\n",
       "\n",
       "    .dataframe thead th {\n",
       "        text-align: right;\n",
       "    }\n",
       "</style>\n",
       "<table border=\"1\" class=\"dataframe\">\n",
       "  <thead>\n",
       "    <tr style=\"text-align: right;\">\n",
       "      <th></th>\n",
       "      <th>Base</th>\n",
       "      <th>Solucion</th>\n",
       "    </tr>\n",
       "  </thead>\n",
       "  <tbody>\n",
       "    <tr>\n",
       "      <th>0</th>\n",
       "      <td>[[1.0, 1.0, 1.0, 0.0, 0.0], [1.0, 2.0, 3.0, 0.0, 0.0], [4.0, 3.0, 3.0, 0.0, 0.0]]</td>\n",
       "      <td>[[0.0], [1.0], [0.0]]</td>\n",
       "    </tr>\n",
       "    <tr>\n",
       "      <th>1</th>\n",
       "      <td>[[1.0, 1.0, 0.0, 1.0, 0.0], [1.0, 2.0, 0.0, 4.0, 0.0], [4.0, 3.0, 0.0, 3.0, 0.0]]</td>\n",
       "      <td>[[0.0], [1.0], [0.0]]</td>\n",
       "    </tr>\n",
       "    <tr>\n",
       "      <th>2</th>\n",
       "      <td>[[1.0, 1.0, 0.0, 0.0, 1.0], [1.0, 2.0, 0.0, 0.0, 5.0], [4.0, 3.0, 0.0, 0.0, 4.0]]</td>\n",
       "      <td>[[0.0], [1.0], [0.0]]</td>\n",
       "    </tr>\n",
       "    <tr>\n",
       "      <th>3</th>\n",
       "      <td>[[1.0, 0.0, 1.0, 1.0, 0.0], [1.0, 0.0, 3.0, 4.0, 0.0], [4.0, 0.0, 3.0, 3.0, 0.0]]</td>\n",
       "      <td>[[0.0], [2.0], [-1.0]]</td>\n",
       "    </tr>\n",
       "    <tr>\n",
       "      <th>4</th>\n",
       "      <td>[[1.0, 0.0, 1.0, 0.0, 1.0], [1.0, 0.0, 3.0, 0.0, 5.0], [4.0, 0.0, 3.0, 0.0, 4.0]]</td>\n",
       "      <td>[[0.25], [1.0], [-0.25]]</td>\n",
       "    </tr>\n",
       "    <tr>\n",
       "      <th>5</th>\n",
       "      <td>[[1.0, 0.0, 0.0, 1.0, 1.0], [1.0, 0.0, 0.0, 4.0, 5.0], [4.0, 0.0, 0.0, 3.0, 4.0]]</td>\n",
       "      <td>[[0.5], [1.0], [-0.5]]</td>\n",
       "    </tr>\n",
       "    <tr>\n",
       "      <th>6</th>\n",
       "      <td>[[0.0, 1.0, 1.0, 0.0, 1.0], [0.0, 2.0, 3.0, 0.0, 5.0], [0.0, 3.0, 3.0, 0.0, 4.0]]</td>\n",
       "      <td>[[1.0], [0.0], [-0.0]]</td>\n",
       "    </tr>\n",
       "    <tr>\n",
       "      <th>7</th>\n",
       "      <td>[[0.0, 1.0, 0.0, 1.0, 1.0], [0.0, 2.0, 0.0, 4.0, 5.0], [0.0, 3.0, 0.0, 3.0, 4.0]]</td>\n",
       "      <td>[[1.0], [0.0], [-0.0]]</td>\n",
       "    </tr>\n",
       "    <tr>\n",
       "      <th>8</th>\n",
       "      <td>[[0.0, 0.0, 1.0, 1.0, 1.0], [0.0, 0.0, 3.0, 4.0, 5.0], [0.0, 0.0, 3.0, 3.0, 4.0]]</td>\n",
       "      <td>[[2.0], [-1.0], [-0.0]]</td>\n",
       "    </tr>\n",
       "  </tbody>\n",
       "</table>\n",
       "</div>"
      ],
      "text/plain": [
       "                                                                                Base  \\\n",
       "0  [[1.0, 1.0, 1.0, 0.0, 0.0], [1.0, 2.0, 3.0, 0.0, 0.0], [4.0, 3.0, 3.0, 0.0, 0.0]]   \n",
       "1  [[1.0, 1.0, 0.0, 1.0, 0.0], [1.0, 2.0, 0.0, 4.0, 0.0], [4.0, 3.0, 0.0, 3.0, 0.0]]   \n",
       "2  [[1.0, 1.0, 0.0, 0.0, 1.0], [1.0, 2.0, 0.0, 0.0, 5.0], [4.0, 3.0, 0.0, 0.0, 4.0]]   \n",
       "3  [[1.0, 0.0, 1.0, 1.0, 0.0], [1.0, 0.0, 3.0, 4.0, 0.0], [4.0, 0.0, 3.0, 3.0, 0.0]]   \n",
       "4  [[1.0, 0.0, 1.0, 0.0, 1.0], [1.0, 0.0, 3.0, 0.0, 5.0], [4.0, 0.0, 3.0, 0.0, 4.0]]   \n",
       "5  [[1.0, 0.0, 0.0, 1.0, 1.0], [1.0, 0.0, 0.0, 4.0, 5.0], [4.0, 0.0, 0.0, 3.0, 4.0]]   \n",
       "6  [[0.0, 1.0, 1.0, 0.0, 1.0], [0.0, 2.0, 3.0, 0.0, 5.0], [0.0, 3.0, 3.0, 0.0, 4.0]]   \n",
       "7  [[0.0, 1.0, 0.0, 1.0, 1.0], [0.0, 2.0, 0.0, 4.0, 5.0], [0.0, 3.0, 0.0, 3.0, 4.0]]   \n",
       "8  [[0.0, 0.0, 1.0, 1.0, 1.0], [0.0, 0.0, 3.0, 4.0, 5.0], [0.0, 0.0, 3.0, 3.0, 4.0]]   \n",
       "\n",
       "                   Solucion  \n",
       "0     [[0.0], [1.0], [0.0]]  \n",
       "1     [[0.0], [1.0], [0.0]]  \n",
       "2     [[0.0], [1.0], [0.0]]  \n",
       "3    [[0.0], [2.0], [-1.0]]  \n",
       "4  [[0.25], [1.0], [-0.25]]  \n",
       "5    [[0.5], [1.0], [-0.5]]  \n",
       "6    [[1.0], [0.0], [-0.0]]  \n",
       "7    [[1.0], [0.0], [-0.0]]  \n",
       "8   [[2.0], [-1.0], [-0.0]]  "
      ]
     },
     "metadata": {},
     "output_type": "display_data"
    }
   ],
   "source": [
    "pd.set_option(\"max_colwidth\",100)\n",
    "df_dir1 = pd.DataFrame(dir1)\n",
    "display (df_dir1)"
   ]
  },
  {
   "cell_type": "code",
   "execution_count": 8,
   "metadata": {
    "colab": {
     "base_uri": "https://localhost:8080/",
     "height": 112
    },
    "id": "rxQHODYlt2I8",
    "outputId": "cd5f211d-a378-4739-f0a6-408729691c29"
   },
   "outputs": [
    {
     "data": {
      "text/html": [
       "<div>\n",
       "<style scoped>\n",
       "    .dataframe tbody tr th:only-of-type {\n",
       "        vertical-align: middle;\n",
       "    }\n",
       "\n",
       "    .dataframe tbody tr th {\n",
       "        vertical-align: top;\n",
       "    }\n",
       "\n",
       "    .dataframe thead th {\n",
       "        text-align: right;\n",
       "    }\n",
       "</style>\n",
       "<table border=\"1\" class=\"dataframe\">\n",
       "  <thead>\n",
       "    <tr style=\"text-align: right;\">\n",
       "      <th></th>\n",
       "      <th>Base</th>\n",
       "      <th>Solucion</th>\n",
       "    </tr>\n",
       "  </thead>\n",
       "  <tbody>\n",
       "    <tr>\n",
       "      <th>0</th>\n",
       "      <td>[[0.0, 1.0, 1.0, 0.0, 1.0], [0.0, 2.0, 3.0, 0.0, 5.0], [0.0, 3.0, 4.0, 0.0, 6.0]]</td>\n",
       "      <td>[[0.5], [0.75], [-0.25]]</td>\n",
       "    </tr>\n",
       "    <tr>\n",
       "      <th>1</th>\n",
       "      <td>[[0.0, 1.0, 0.0, 1.0, 1.0], [0.0, 2.0, 0.0, 4.0, 5.0], [0.0, 3.0, 0.0, 5.0, 6.0]]</td>\n",
       "      <td>[[0.875], [0.375], [-0.25]]</td>\n",
       "    </tr>\n",
       "  </tbody>\n",
       "</table>\n",
       "</div>"
      ],
      "text/plain": [
       "                                                                                Base  \\\n",
       "0  [[0.0, 1.0, 1.0, 0.0, 1.0], [0.0, 2.0, 3.0, 0.0, 5.0], [0.0, 3.0, 4.0, 0.0, 6.0]]   \n",
       "1  [[0.0, 1.0, 0.0, 1.0, 1.0], [0.0, 2.0, 0.0, 4.0, 5.0], [0.0, 3.0, 0.0, 5.0, 6.0]]   \n",
       "\n",
       "                      Solucion  \n",
       "0     [[0.5], [0.75], [-0.25]]  \n",
       "1  [[0.875], [0.375], [-0.25]]  "
      ]
     },
     "metadata": {},
     "output_type": "display_data"
    }
   ],
   "source": [
    "pd.set_option(\"max_colwidth\",100)\n",
    "df_dir2 = pd.DataFrame(dir2)\n",
    "display (df_dir2)"
   ]
  },
  {
   "cell_type": "code",
   "execution_count": 9,
   "metadata": {
    "colab": {
     "base_uri": "https://localhost:8080/",
     "height": 143
    },
    "id": "Uaf4rirEt2I8",
    "outputId": "417fbe16-0bea-4925-8bff-52a4f765eeee"
   },
   "outputs": [
    {
     "data": {
      "text/html": [
       "<div>\n",
       "<style scoped>\n",
       "    .dataframe tbody tr th:only-of-type {\n",
       "        vertical-align: middle;\n",
       "    }\n",
       "\n",
       "    .dataframe tbody tr th {\n",
       "        vertical-align: top;\n",
       "    }\n",
       "\n",
       "    .dataframe thead th {\n",
       "        text-align: right;\n",
       "    }\n",
       "</style>\n",
       "<table border=\"1\" class=\"dataframe\">\n",
       "  <thead>\n",
       "    <tr style=\"text-align: right;\">\n",
       "      <th></th>\n",
       "      <th>Base</th>\n",
       "      <th>Solucion</th>\n",
       "    </tr>\n",
       "  </thead>\n",
       "  <tbody>\n",
       "    <tr>\n",
       "      <th>0</th>\n",
       "      <td>[[1.0, 1.0, 0.0, 3.0], [1.0, 2.0, 0.0, 4.0], [2.0, 3.0, 0.0, 5.0]]</td>\n",
       "      <td>[[0.0], [1.0], [0.0]]</td>\n",
       "    </tr>\n",
       "    <tr>\n",
       "      <th>1</th>\n",
       "      <td>[[1.0, 0.0, 1.0, 3.0], [1.0, 0.0, 3.0, 4.0], [2.0, 0.0, 4.0, 5.0]]</td>\n",
       "      <td>[[0.5], [0.5], [0.0]]</td>\n",
       "    </tr>\n",
       "    <tr>\n",
       "      <th>2</th>\n",
       "      <td>[[0.0, 1.0, 1.0, 3.0], [0.0, 2.0, 3.0, 4.0], [0.0, 3.0, 4.0, 5.0]]</td>\n",
       "      <td>[[1.0], [0.0], [0.0]]</td>\n",
       "    </tr>\n",
       "  </tbody>\n",
       "</table>\n",
       "</div>"
      ],
      "text/plain": [
       "                                                                 Base  \\\n",
       "0  [[1.0, 1.0, 0.0, 3.0], [1.0, 2.0, 0.0, 4.0], [2.0, 3.0, 0.0, 5.0]]   \n",
       "1  [[1.0, 0.0, 1.0, 3.0], [1.0, 0.0, 3.0, 4.0], [2.0, 0.0, 4.0, 5.0]]   \n",
       "2  [[0.0, 1.0, 1.0, 3.0], [0.0, 2.0, 3.0, 4.0], [0.0, 3.0, 4.0, 5.0]]   \n",
       "\n",
       "                Solucion  \n",
       "0  [[0.0], [1.0], [0.0]]  \n",
       "1  [[0.5], [0.5], [0.0]]  \n",
       "2  [[1.0], [0.0], [0.0]]  "
      ]
     },
     "metadata": {},
     "output_type": "display_data"
    }
   ],
   "source": [
    "#Ejemplo \n",
    "A3 = np.array([[1 ,1,1,3 ],[1,2,3,4], [2,3,4,5]])\n",
    "b1 = np.array([[1],[2],[3]])\n",
    "dir3 = soluciones_basicas(A3,b1)\n",
    "pd.set_option(\"max_colwidth\",100)\n",
    "df_dir3 = pd.DataFrame(dir3)\n",
    "display (df_dir3)"
   ]
  },
  {
   "cell_type": "markdown",
   "metadata": {
    "id": "w3Iaa1kxt2I8"
   },
   "source": [
    "## Segundo Punto"
   ]
  },
  {
   "cell_type": "markdown",
   "metadata": {
    "id": "Ab1cUpfNt2I8"
   },
   "source": [
    "### a) \n",
    "\n",
    "#### 1)\n",
    "Las variables del problema son la cantidad de toneladas de carbón (C), petroleo (P) y gas(G) que serán utilizadas para producir energía.\n",
    "#### 2) \n",
    "La función de costo del ejercicio es:\n",
    "\n",
    "f() = 600000C + 550000P + 500000G\n",
    "\n",
    "La función representa la cantidad máxima de energía [W]  que puede ser generada en un día dentro de la planta generadora.  \n",
    "#### 3)\n",
    "Restricciones:\n",
    "\n",
    "\n",
    "*   20C + 18P + 15G <= 60\n",
    "*   15C + 12P + 10G <= 75\n",
    "*   200C + 220P + 250G <= 2000\n",
    "*   C,P,G <= 0\n",
    "\n",
    "#### 4) \n",
    "Planteamiento del problema PL:\n",
    "\n",
    "Fórma estandar: \n",
    "\n",
    "min f() =  -600000C - 550000P - 500000G\n",
    "sujeto a:\n",
    "*   20C + 18P + 15G +s1  = 60\n",
    "*   15C + 12P + 10G + s2 = 75\n",
    "*   200C + 220P + 250G +s3 = 2000\n",
    "*   C,P,G, s1,s2,s3 <= 0\n",
    "\n",
    "Ax = b:\n",
    "\n",
    "$\n",
    "\\left[\n",
    "\\begin{array}{ll}\n",
    "20  & 18 & 15 & 1 & 0 & 0 \\\\\n",
    "15 & 12 & 10  & 0& 1 & 0 \\\\\n",
    "200  & 220 & 250 & 0& 0& 1 \n",
    "\\end{array}\n",
    "\\right]\n",
    "$ \n",
    "$\n",
    "\\left[\n",
    "\\begin{array}{ll}\n",
    "C\\\\\n",
    "P\\\\\n",
    "G\\\\\n",
    "s1\\\\\n",
    "s2\\\\\n",
    "s2\\\\\n",
    "\\end{array}\n",
    "\\right]\n",
    "$\n",
    "$=$\n",
    "$\\left[\n",
    "\\begin{array}{ll}\n",
    "60\\\\\n",
    "75\\\\\n",
    "2000\n",
    "\\end{array}\n",
    "\\right]\n",
    "$ \n",
    "\n",
    "\n",
    "\n",
    "Planteamiento sin variables slack: \n",
    "\n",
    "min f() =  -600000C - 550000P - 500000G\n",
    "\n",
    "sujeto a:\n",
    "*   20C + 18P + 15G <= 60\n",
    "*   15C + 12P + 10G <= 75\n",
    "*   200C + 220P + 250G <= 2000\n",
    "*   C,P,G<= 0\n",
    "\n",
    "Ax = b:\n",
    "\n",
    "$\n",
    "\\left[\n",
    "\\begin{array}{ll}\n",
    "20  & 18 & 15  \\\\\n",
    "15 & 12 & 10   \\\\\n",
    "200  & 220 & 250  \n",
    "\\end{array}\n",
    "\\right]\n",
    "$ \n",
    "$\n",
    "\\left[\n",
    "\\begin{array}{ll}\n",
    "C\\\\\n",
    "P\\\\\n",
    "G\n",
    "\\end{array}\n",
    "\\right]\n",
    "$\n",
    "$=$\n",
    "$\\left[\n",
    "\\begin{array}{ll}\n",
    "60\\\\\n",
    "75\\\\\n",
    "2000\n",
    "\\end{array}\n",
    "\\right]\n",
    "$ \n",
    "\n",
    "\n",
    "\n",
    "\n",
    "\n"
   ]
  },
  {
   "cell_type": "markdown",
   "metadata": {},
   "source": []
  },
  {
   "cell_type": "markdown",
   "metadata": {
    "id": "zG04GW4kt2I9"
   },
   "source": [
    "### b)"
   ]
  },
  {
   "cell_type": "markdown",
   "metadata": {
    "id": "_MKIR5mWt2I-"
   },
   "source": [
    "### c)"
   ]
  },
  {
   "cell_type": "markdown",
   "metadata": {},
   "source": [
    "#### 1\n"
   ]
  },
  {
   "cell_type": "code",
   "execution_count": null,
   "metadata": {
    "id": "E05_OCnDt2I-"
   },
   "outputs": [],
   "source": []
  },
  {
   "cell_type": "markdown",
   "metadata": {},
   "source": [
    "#### 2"
   ]
  },
  {
   "cell_type": "code",
   "execution_count": 38,
   "metadata": {
    "id": "i9louL3Qt2I-"
   },
   "outputs": [],
   "source": [
    "#vector con los coeficientes de la funcion a minimizar\n",
    "c = [-600, -550 ,-500]\n",
    "#matriz con los coeficientes de restricciones\n",
    "A = [[20, 18,15], [15,12,10], [200,220,250]]\n",
    "# vector de restricciones\n",
    "b = [60,75,2000]\n",
    "# límite de las variables para asegurar que sean positivas\n",
    "C_bounds = (0, None)\n",
    "P_bounds = (0, None)\n",
    "G_bounds = (0, None)"
   ]
  },
  {
   "cell_type": "code",
   "execution_count": 42,
   "metadata": {},
   "outputs": [
    {
     "name": "stdout",
     "output_type": "stream",
     "text": [
      "Resultados con revised simplex:\n",
      "La mayor cantidad de energía que se puede producir es 2000.0 kW, la cual se genera con [0. 0. 4.] toneladas de carbón, petrole y gas, respectivamente.\n",
      "Tiempo de ejecución del algoritmo: 0.004423379898071289\n"
     ]
    }
   ],
   "source": [
    "\n",
    "#Solución al sistema con método revised simplex\n",
    "inicio = time.time()#medicion de timepo\n",
    "res_rs = linprog(c, A_ub=A, b_ub=b, bounds=[C_bounds, P_bounds,G_bounds], method='revised simplex', x0=None)\n",
    "fin = time.time()#medicion de timepo\n",
    "\n",
    "#Valores de C, P yG\n",
    "valores = res_rs.x\n",
    "#Valor de función maximizada.\n",
    "energia = abs(res_rs.fun)\n",
    "print(\"Resultados con revised simplex:\")\n",
    "print (f\"La mayor cantidad de energía que se puede producir es {energia} kW, la cual se genera con {valores} toneladas de carbón, petrole y gas, respectivamente.\")\n",
    "print(f\"Tiempo de ejecución del algoritmo: {fin-inicio}\")"
   ]
  },
  {
   "cell_type": "code",
   "execution_count": 43,
   "metadata": {},
   "outputs": [
    {
     "name": "stdout",
     "output_type": "stream",
     "text": [
      "Resultados con  simplex:\n",
      "La mayor cantidad de energía que se puede producir es 2000.0 kW, la cual se genera con [0. 0. 4.] toneladas de carbón, petrole y gas, respectivamente.\n",
      "Tiempo de ejecución del algoritmo: 0.0054624080657958984\n"
     ]
    }
   ],
   "source": [
    "\n",
    "#Solución al sistema con método simplex\n",
    "inicio = time.time() #medicion de tiempo\n",
    "res_s = linprog(c, A_ub=A, b_ub=b, bounds=[C_bounds, P_bounds,G_bounds], method='simplex', x0=None)\n",
    "fin = time.time() #medicion de tiempo\n",
    "#Valores de C, P yG\n",
    "valores = res_s.x\n",
    "#Valor de función maximizada.\n",
    "energia = abs(res_s.fun)\n",
    "\n",
    "print(\"Resultados con  simplex:\")\n",
    "print (f\"La mayor cantidad de energía que se puede producir es {energia} kW, la cual se genera con {valores} toneladas de carbón, petrole y gas, respectivamente.\")\n",
    "print(f\"Tiempo de ejecución del algoritmo: {fin-inicio}\")"
   ]
  },
  {
   "cell_type": "code",
   "execution_count": 44,
   "metadata": {},
   "outputs": [
    {
     "name": "stdout",
     "output_type": "stream",
     "text": [
      "Resultados con interior point:\n",
      "La mayor cantidad de energía que se puede producir es 2000.0 kW, la cual se genera con [0. 0. 4.] toneladas de carbón, petrole y gas, respectivamente.\n",
      "Tiempo de ejecución del algoritmo: 0.004069089889526367\n"
     ]
    }
   ],
   "source": [
    "#Solución al sistema con método interior point\n",
    "inicio = time.time() \n",
    "res_ip = linprog(c, A_ub=A, b_ub=b, bounds=[C_bounds, P_bounds,G_bounds], method='simplex', x0=None)\n",
    "fin = time.time()#medicion de tiempo\n",
    "#Valores de C, P yG\n",
    "valores = res_ip.x\n",
    "#Valor de función maximizada.\n",
    "energia = abs(res_ip.fun)\n",
    "\n",
    "print(\"Resultados con interior point:\")\n",
    "print (f\"La mayor cantidad de energía que se puede producir es {energia} kW, la cual se genera con {valores} toneladas de carbón, petrole y gas, respectivamente.\")\n",
    "print(f\"Tiempo de ejecución del algoritmo: {fin-inicio}\")"
   ]
  },
  {
   "cell_type": "markdown",
   "metadata": {},
   "source": [
    "#### 3"
   ]
  }
 ],
 "metadata": {
  "colab": {
   "collapsed_sections": [],
   "provenance": []
  },
  "kernelspec": {
   "display_name": "Python 3",
   "language": "python",
   "name": "python3"
  },
  "language_info": {
   "codemirror_mode": {
    "name": "ipython",
    "version": 3
   },
   "file_extension": ".py",
   "mimetype": "text/x-python",
   "name": "python",
   "nbconvert_exporter": "python",
   "pygments_lexer": "ipython3",
   "version": "3.6.9"
  },
  "vscode": {
   "interpreter": {
    "hash": "31f2aee4e71d21fbe5cf8b01ff0e069b9275f58929596ceb00d14d90e3e16cd6"
   }
  }
 },
 "nbformat": 4,
 "nbformat_minor": 1
}

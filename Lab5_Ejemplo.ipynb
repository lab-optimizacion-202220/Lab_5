{
 "cells": [
  {
   "cell_type": "markdown",
   "metadata": {
    "id": "Q9AdNTfAzlMB"
   },
   "source": [
    "# Práctica 5: Implementación de Simplex"
   ]
  },
  {
   "cell_type": "markdown",
   "metadata": {
    "id": "-x-xB_2MtB9I"
   },
   "source": [
    "## Librerias"
   ]
  },
  {
   "cell_type": "code",
   "execution_count": 2,
   "metadata": {
    "id": "HydFmu4uzaOn"
   },
   "outputs": [],
   "source": [
    "import numpy as np"
   ]
  },
  {
   "cell_type": "markdown",
   "metadata": {
    "id": "MdKw9C_Czqki"
   },
   "source": [
    "## Simplex\n",
    "\n",
    "Función donde se implementa el algoritmo Simplex para optimización de problemas de programación lineal en la forma estandar.\n",
    "\n",
    "* El código fue adapatado de: https://github.com/mmolteratx/Simplex\n",
    "\n"
   ]
  },
  {
   "cell_type": "code",
   "execution_count": 3,
   "metadata": {
    "id": "kTLMg3HDEqLD"
   },
   "outputs": [],
   "source": [
    "# ------------------------------------------------------------------\n",
    "#                      Funciones Auxiliares\n",
    "# ------------------------------------------------------------------\n",
    "\n",
    "def printTableau(tableau, f):\n",
    "  \n",
    "    f = f[np.nonzero(f)]\n",
    "    print(\"ind \\t\", end = \"\")\n",
    "    for j in range(0, len(f)):\n",
    "        print(\"x_\" + str(j), end = \"\\t\")\n",
    "    for j in range(0, (len(tableau[0]) - len(f) - 2)):\n",
    "        print(\"s_\" + str(j), end = \"\\t\")\n",
    "    \n",
    "    print()\n",
    "    for j in range(0, len(tableau)):\n",
    "        for i in range(0, len(tableau[0])):\n",
    "            if(not np.isnan(tableau[j, i])):\n",
    "                if(i == 0):\n",
    "                    print(int(tableau[j, i]), end = \"\\t\")\n",
    "                else:\n",
    "                    print(round(tableau[j, i], 2), end = \"\\t\")\n",
    "            else:\n",
    "                print(end = \"\\t\")\n",
    "        print()\n",
    "\n",
    "def getTableau(c, A, b):\n",
    "  # Construct starting tableau\n",
    "  c[0:len(c)] = -1 * c[0:len(c)]\n",
    "\n",
    "  t2 = np.array([None, 0])\n",
    "  numVar = len(c)\n",
    "  numSlack = len(A)\n",
    "    \n",
    "  t2 = np.hstack(([None], c, [0]))\n",
    "  \n",
    "  basis = np.array([0] * numSlack)\n",
    "  \n",
    "  for i in range(0, len(basis)):\n",
    "      basis[i] = numVar + i\n",
    "      \n",
    "  t1 = np.hstack((np.transpose([basis]), A, np.transpose([b])))\n",
    "  \n",
    "  tableau = np.vstack((t1, t2))\n",
    "  \n",
    "  tableau = np.array(tableau, dtype ='float')\n",
    "  \n",
    "  return tableau\n",
    "\n",
    "# ------------------------------------------------------------------\n",
    "#                      Funcion Simplex\n",
    "# ------------------------------------------------------------------\n",
    "\n",
    "def simplex(f, A, b, print_iter=True):\n",
    "  for i in range(len(f)):\n",
    "    f[i] = -1 * f[i]\n",
    "    \n",
    "  # Build Tableu\n",
    "  tableau = getTableau(f, A, b)\n",
    "      \n",
    "  if(print_iter):\n",
    "      print(\"Starting Tableau:\")\n",
    "      printTableau(tableau, f)\n",
    "  \n",
    "  # Assume initial basis is not optimal\n",
    "  optimal = False\n",
    "\n",
    "  # Keep track of iterations for display\n",
    "  iter = 1\n",
    "\n",
    "  while not optimal:\n",
    "      \n",
    "    if print_iter:\n",
    "      print(\"--------------------------------------------------------------\")\n",
    "      print(\"ITERATION \", iter)\n",
    "      printTableau(tableau, f)\n",
    "        \n",
    "    # Look for direction of decreased cost\n",
    "    for cost in tableau[-1, 1:-1]:\n",
    "      if cost < 0:\n",
    "        optimal = False\n",
    "        break\n",
    "      optimal = True\n",
    "\n",
    "    # If all directions result in decreased cost SBF is optimal\n",
    "    if optimal: \n",
    "      break\n",
    "      \n",
    "    # nth variable enters basis, account for tableau indexing\n",
    "    n = tableau[-1, 1:-1].tolist().index(np.amin(tableau[-1, 1:-1])) + 1 # PUEDE QUE NO SEA 2\n",
    "\n",
    "    # Minimum ratio test, rth variable leaves basis \n",
    "    minimum = 99999\n",
    "    r = -1\n",
    "    \n",
    "    for i in range(0, len(tableau)-1): \n",
    "      if (tableau[i, n] > 0):\n",
    "        val = tableau[i, -1]/tableau[i, n]\n",
    "        if val<minimum: \n",
    "          minimum = val \n",
    "          r = i\n",
    "                    \n",
    "    pivot = tableau[r, n] \n",
    "    \n",
    "    print(\"Pivot Column:\", n)\n",
    "    print(\"Pivot Row:\", r)\n",
    "    print(\"Pivot Element: \", pivot)\n",
    "\n",
    "    # Perform row operations \n",
    "    # Divide the pivot row with the pivot element \n",
    "    tableau[r, 1:] = tableau[r, 1:] / pivot \n",
    "    \n",
    "    # Pivot other rows\n",
    "    for i in range(0, len(tableau)): \n",
    "      if i != r:\n",
    "        mult = tableau[i, n] / tableau[r, n]\n",
    "        tableau[i, 1:] = tableau[i, 1:] - mult * tableau[r, 1:] \n",
    "\n",
    "    # New basic variable \n",
    "    tableau[r, 0] = n - 1\n",
    "    iter += 1\n",
    "      \n",
    "  if print_iter:\n",
    "    print(\"--------------------------------------------------------------\")\n",
    "    print(\"Final Tableau reached in\", iter, \"iterations\")\n",
    "    printTableau(tableau, f)\n",
    "  else:\n",
    "      print(\"Solved\")\n",
    "      \n",
    "  x = np.array([0] * len(f), dtype = float)\n",
    "  # Save coefficients\n",
    "  for key in range(0, (len(tableau))):\n",
    "      if (tableau[key, 0] < len(f)):\n",
    "          x[int(tableau[key, 0])] = tableau[key, -1]\n",
    "  \n",
    "  optimalValue = -1 * tableau[-1,-1]\n",
    "\n",
    "  print(\"--------------------------------------------------------------\")\n",
    "  print(\"SOLUTION: \")\n",
    "  print(\"Fobj Optimal Value: \" + str(optimalValue))\n",
    "  print(\"Solution: \" + str(x))"
   ]
  },
  {
   "cell_type": "markdown",
   "metadata": {
    "id": "j5CwO0_g2_mP"
   },
   "source": [
    "\n",
    "##  Ejemplo\n",
    "\n",
    "Ejemplo de como utilizar la función implementada en python."
   ]
  },
  {
   "cell_type": "markdown",
   "metadata": {
    "id": "T6lfI_GsxSyH"
   },
   "source": [
    "Problema:\n",
    "$$ \\min f(x) = -3 x_1 -  x_2 - 3 x_3 $$\n",
    "\n",
    "$$ \\begin{array}{rl}\n",
    "  2x_1 + x_2 + x_3 & \\leq 2 \\\\\n",
    "  x_1 + 2x_2 + 3x_3 & \\leq 5 \\\\\n",
    "  2x_1 + 2x_2 + x_3 & \\leq 6 \\\\\n",
    "  x_1,x_2, x_3 & \\geq 0 \\\\\n",
    " \\end{array}$$\n",
    "\n",
    " Forma Estándar:\n",
    " $$ \\min f(x) = -3 x_1 -  x_2 - 3 x_3  $$\n",
    "\n",
    "$$ \\begin{array}{rl}\n",
    "  2x_1 + x_2 + x_3 + y_1 & = 2 \\\\\n",
    "  x_1 + 2x_2 + 3x_3 + y_2 & = 5 \\\\\n",
    "  2x_1 + 2x_2 + x_3 + y_3 & = 6 \\\\\n",
    "  x_1,x_2, x_3, y_1, y_2, y_3 & \\geq 0 \\\\\n",
    " \\end{array}$$"
   ]
  },
  {
   "cell_type": "code",
   "execution_count": 4,
   "metadata": {
    "colab": {
     "base_uri": "https://localhost:8080/"
    },
    "id": "QFgUuowKUiy6",
    "outputId": "e4904b57-80da-45aa-adcf-d6157a686be3"
   },
   "outputs": [
    {
     "name": "stdout",
     "output_type": "stream",
     "text": [
      "Starting Tableau:\n",
      "ind \tx_0\tx_1\tx_2\ts_0\ts_1\ts_2\t\n",
      "6\t2.0\t1.0\t1.0\t1.0\t0.0\t0.0\t2.0\t\n",
      "7\t1.0\t2.0\t3.0\t0.0\t1.0\t0.0\t5.0\t\n",
      "8\t2.0\t2.0\t1.0\t0.0\t0.0\t1.0\t6.0\t\n",
      "\t-3.0\t-1.0\t-3.0\t0.0\t0.0\t0.0\t0.0\t\n",
      "--------------------------------------------------------------\n",
      "ITERATION  1\n",
      "ind \tx_0\tx_1\tx_2\ts_0\ts_1\ts_2\t\n",
      "6\t2.0\t1.0\t1.0\t1.0\t0.0\t0.0\t2.0\t\n",
      "7\t1.0\t2.0\t3.0\t0.0\t1.0\t0.0\t5.0\t\n",
      "8\t2.0\t2.0\t1.0\t0.0\t0.0\t1.0\t6.0\t\n",
      "\t-3.0\t-1.0\t-3.0\t0.0\t0.0\t0.0\t0.0\t\n",
      "Pivot Column: 1\n",
      "Pivot Row: 0\n",
      "Pivot Element:  2.0\n",
      "--------------------------------------------------------------\n",
      "ITERATION  2\n",
      "ind \tx_0\tx_1\tx_2\ts_0\ts_1\ts_2\t\n",
      "0\t1.0\t0.5\t0.5\t0.5\t0.0\t0.0\t1.0\t\n",
      "7\t0.0\t1.5\t2.5\t-0.5\t1.0\t0.0\t4.0\t\n",
      "8\t0.0\t1.0\t0.0\t-1.0\t0.0\t1.0\t4.0\t\n",
      "\t0.0\t0.5\t-1.5\t1.5\t0.0\t0.0\t3.0\t\n",
      "Pivot Column: 3\n",
      "Pivot Row: 1\n",
      "Pivot Element:  2.5\n",
      "--------------------------------------------------------------\n",
      "ITERATION  3\n",
      "ind \tx_0\tx_1\tx_2\ts_0\ts_1\ts_2\t\n",
      "0\t1.0\t0.2\t0.0\t0.6\t-0.2\t0.0\t0.2\t\n",
      "2\t0.0\t0.6\t1.0\t-0.2\t0.4\t0.0\t1.6\t\n",
      "8\t0.0\t1.0\t0.0\t-1.0\t0.0\t1.0\t4.0\t\n",
      "\t0.0\t1.4\t0.0\t1.2\t0.6\t0.0\t5.4\t\n",
      "--------------------------------------------------------------\n",
      "Final Tableau reached in 3 iterations\n",
      "ind \tx_0\tx_1\tx_2\ts_0\ts_1\ts_2\t\n",
      "0\t1.0\t0.2\t0.0\t0.6\t-0.2\t0.0\t0.2\t\n",
      "2\t0.0\t0.6\t1.0\t-0.2\t0.4\t0.0\t1.6\t\n",
      "8\t0.0\t1.0\t0.0\t-1.0\t0.0\t1.0\t4.0\t\n",
      "\t0.0\t1.4\t0.0\t1.2\t0.6\t0.0\t5.4\t\n",
      "--------------------------------------------------------------\n",
      "SOLUTION: \n",
      "Fobj Optimal Value: -5.4\n",
      "Solution: [0.2 0.  1.6 0.  0.  0. ]\n"
     ]
    }
   ],
   "source": [
    "# Probar función\n",
    "f = np.array([-3, -1, -3, 0, 0, 0])\n",
    "A = np.array([[2, 1, 1, 1, 0, 0], [1, 2, 3, 0, 1, 0], [2, 2, 1, 0, 0, 1]])\n",
    "b = np.array([2, 5, 6])\n",
    "\n",
    "simplex(f,A,b)"
   ]
  }
 ],
 "metadata": {
  "colab": {
   "collapsed_sections": [],
   "name": "Lab6_Ejemplo.ipynb",
   "provenance": [],
   "toc_visible": true
  },
  "kernelspec": {
   "display_name": "Python 3 (ipykernel)",
   "language": "python",
   "name": "python3"
  },
  "language_info": {
   "codemirror_mode": {
    "name": "ipython",
    "version": 3
   },
   "file_extension": ".py",
   "mimetype": "text/x-python",
   "name": "python",
   "nbconvert_exporter": "python",
   "pygments_lexer": "ipython3",
   "version": "3.10.2"
  }
 },
 "nbformat": 4,
 "nbformat_minor": 1
}

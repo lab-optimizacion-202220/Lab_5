{
 "cells": [
  {
   "cell_type": "markdown",
   "metadata": {
    "id": "tn-eQ8IZt2Iz"
   },
   "source": [
    "# Laboratorio 4 "
   ]
  },
  {
   "cell_type": "markdown",
   "metadata": {
    "id": "KoI3IbApt2I2"
   },
   "source": []
  },
  {
   "cell_type": "markdown",
   "metadata": {
    "id": "s-qsxaZZt2I2"
   },
   "source": [
    "## Primer punto\n",
    "\n",
    "### a)"
   ]
  },
  {
   "cell_type": "code",
   "execution_count": 1,
   "metadata": {
    "id": "x_p41rZdt2I2"
   },
   "outputs": [],
   "source": [
    "from matplotlib import pyplot, pylab, mlab\n",
    "from pylab import *\n",
    "from scipy.optimize import linprog\n",
    "import numpy as np\n",
    "import math \n",
    "from math import factorial\n",
    "from scipy.optimize import minimize\n",
    "import sympy as sym\n",
    "from itertools import combinations\n",
    "import pandas as pd\n",
    "from IPython.display import display\n"
   ]
  },
  {
   "cell_type": "code",
   "execution_count": 2,
   "metadata": {
    "id": "YIlCMslJt2I3"
   },
   "outputs": [],
   "source": [
    "def soluciones_basicas (A,b):\n",
    "    sol_bas = []\n",
    "    base = []\n",
    "    columnas = np.size(A[0])\n",
    "    filas = np.size(b[:,0])\n",
    "    ans = {\"Solucion\": sol_bas,\n",
    "            \"Base\":base  }\n",
    "    matrices = list (combinations(np.arange(0, columnas, 1),filas))\n",
    "    for i in range(len(matrices)):\n",
    "        sub_A = []\n",
    "        for j in ((matrices[i])):\n",
    "                sub_A.append(A[:,j])\n",
    "        sub_A =  (np.array(sub_A)).transpose()\n",
    "        if np.linalg.det(sub_A) !=0:\n",
    "          aux = np.linalg.solve(sub_A,b)\n",
    "          aux = np.round(aux,5) \n",
    "          sol_bas.append(aux)\n",
    "          base.append(aux)\n",
    "\n",
    "    return  ans"
   ]
  },
  {
   "cell_type": "markdown",
   "metadata": {
    "id": "A70qGIo1t2I5"
   },
   "source": [
    "### b)\n"
   ]
  },
  {
   "cell_type": "code",
   "execution_count": 3,
   "metadata": {
    "id": "opuABwsDt2I5"
   },
   "outputs": [],
   "source": [
    "#Se crean las matrices  y  vector que determinan el sistema de ecuaciones \n",
    "A1 = np.array([[1 ,1,1,1,1 ],[1,2,3,4,5], [4,3,3,3,4]])\n",
    "A2 = np.array([[1 ,1,1,1,1 ],[1,2,3,4,5], [2,3,4,5,6]])\n",
    "b = np.array([[1],[2],[3]])"
   ]
  },
  {
   "cell_type": "code",
   "execution_count": 4,
   "metadata": {
    "id": "6LaMpYRxt2I5"
   },
   "outputs": [],
   "source": [
    "#Resultados con matriz de rango completo.\n",
    "dir1 = soluciones_basicas(A1,b)\n"
   ]
  },
  {
   "cell_type": "code",
   "execution_count": 5,
   "metadata": {
    "id": "7CYrCRjOt2I6"
   },
   "outputs": [],
   "source": [
    "#Resultados con matriz de rango completo.\n",
    "dir2 = soluciones_basicas(A2,b)"
   ]
  },
  {
   "cell_type": "markdown",
   "metadata": {
    "id": "-N04-3Prt2I7"
   },
   "source": [
    "### C)\n"
   ]
  },
  {
   "cell_type": "code",
   "execution_count": 6,
   "metadata": {
    "colab": {
     "base_uri": "https://localhost:8080/",
     "height": 332
    },
    "id": "IBy9blPjt2I7",
    "outputId": "eef53ef1-f8b1-4608-b723-64b97c938cb7"
   },
   "outputs": [
    {
     "data": {
      "text/html": [
       "<div>\n",
       "<style scoped>\n",
       "    .dataframe tbody tr th:only-of-type {\n",
       "        vertical-align: middle;\n",
       "    }\n",
       "\n",
       "    .dataframe tbody tr th {\n",
       "        vertical-align: top;\n",
       "    }\n",
       "\n",
       "    .dataframe thead th {\n",
       "        text-align: right;\n",
       "    }\n",
       "</style>\n",
       "<table border=\"1\" class=\"dataframe\">\n",
       "  <thead>\n",
       "    <tr style=\"text-align: right;\">\n",
       "      <th></th>\n",
       "      <th>Base</th>\n",
       "      <th>Solucion</th>\n",
       "    </tr>\n",
       "  </thead>\n",
       "  <tbody>\n",
       "    <tr>\n",
       "      <th>0</th>\n",
       "      <td>[[0.0], [1.0], [0.0]]</td>\n",
       "      <td>[[0.0], [1.0], [0.0]]</td>\n",
       "    </tr>\n",
       "    <tr>\n",
       "      <th>1</th>\n",
       "      <td>[[0.0], [1.0], [0.0]]</td>\n",
       "      <td>[[0.0], [1.0], [0.0]]</td>\n",
       "    </tr>\n",
       "    <tr>\n",
       "      <th>2</th>\n",
       "      <td>[[0.0], [1.0], [0.0]]</td>\n",
       "      <td>[[0.0], [1.0], [0.0]]</td>\n",
       "    </tr>\n",
       "    <tr>\n",
       "      <th>3</th>\n",
       "      <td>[[0.0], [2.0], [-1.0]]</td>\n",
       "      <td>[[0.0], [2.0], [-1.0]]</td>\n",
       "    </tr>\n",
       "    <tr>\n",
       "      <th>4</th>\n",
       "      <td>[[0.25], [1.0], [-0.25]]</td>\n",
       "      <td>[[0.25], [1.0], [-0.25]]</td>\n",
       "    </tr>\n",
       "    <tr>\n",
       "      <th>5</th>\n",
       "      <td>[[0.5], [1.0], [-0.5]]</td>\n",
       "      <td>[[0.5], [1.0], [-0.5]]</td>\n",
       "    </tr>\n",
       "    <tr>\n",
       "      <th>6</th>\n",
       "      <td>[[1.0], [0.0], [-0.0]]</td>\n",
       "      <td>[[1.0], [0.0], [-0.0]]</td>\n",
       "    </tr>\n",
       "    <tr>\n",
       "      <th>7</th>\n",
       "      <td>[[1.0], [0.0], [-0.0]]</td>\n",
       "      <td>[[1.0], [0.0], [-0.0]]</td>\n",
       "    </tr>\n",
       "    <tr>\n",
       "      <th>8</th>\n",
       "      <td>[[2.0], [-1.0], [-0.0]]</td>\n",
       "      <td>[[2.0], [-1.0], [-0.0]]</td>\n",
       "    </tr>\n",
       "  </tbody>\n",
       "</table>\n",
       "</div>"
      ],
      "text/plain": [
       "                       Base                  Solucion\n",
       "0     [[0.0], [1.0], [0.0]]     [[0.0], [1.0], [0.0]]\n",
       "1     [[0.0], [1.0], [0.0]]     [[0.0], [1.0], [0.0]]\n",
       "2     [[0.0], [1.0], [0.0]]     [[0.0], [1.0], [0.0]]\n",
       "3    [[0.0], [2.0], [-1.0]]    [[0.0], [2.0], [-1.0]]\n",
       "4  [[0.25], [1.0], [-0.25]]  [[0.25], [1.0], [-0.25]]\n",
       "5    [[0.5], [1.0], [-0.5]]    [[0.5], [1.0], [-0.5]]\n",
       "6    [[1.0], [0.0], [-0.0]]    [[1.0], [0.0], [-0.0]]\n",
       "7    [[1.0], [0.0], [-0.0]]    [[1.0], [0.0], [-0.0]]\n",
       "8   [[2.0], [-1.0], [-0.0]]   [[2.0], [-1.0], [-0.0]]"
      ]
     },
     "metadata": {},
     "output_type": "display_data"
    }
   ],
   "source": [
    "# \n",
    "pd.set_option(\"max_colwidth\",75)\n",
    "df_dir1 = pd.DataFrame(dir1)\n",
    "display (df_dir1)"
   ]
  },
  {
   "cell_type": "code",
   "execution_count": 7,
   "metadata": {
    "colab": {
     "base_uri": "https://localhost:8080/",
     "height": 112
    },
    "id": "rxQHODYlt2I8",
    "outputId": "cd5f211d-a378-4739-f0a6-408729691c29"
   },
   "outputs": [
    {
     "data": {
      "text/html": [
       "<div>\n",
       "<style scoped>\n",
       "    .dataframe tbody tr th:only-of-type {\n",
       "        vertical-align: middle;\n",
       "    }\n",
       "\n",
       "    .dataframe tbody tr th {\n",
       "        vertical-align: top;\n",
       "    }\n",
       "\n",
       "    .dataframe thead th {\n",
       "        text-align: right;\n",
       "    }\n",
       "</style>\n",
       "<table border=\"1\" class=\"dataframe\">\n",
       "  <thead>\n",
       "    <tr style=\"text-align: right;\">\n",
       "      <th></th>\n",
       "      <th>Base</th>\n",
       "      <th>Solucion</th>\n",
       "    </tr>\n",
       "  </thead>\n",
       "  <tbody>\n",
       "    <tr>\n",
       "      <th>0</th>\n",
       "      <td>[[0.5], [0.75], [-0.25]]</td>\n",
       "      <td>[[0.5], [0.75], [-0.25]]</td>\n",
       "    </tr>\n",
       "    <tr>\n",
       "      <th>1</th>\n",
       "      <td>[[0.875], [0.375], [-0.25]]</td>\n",
       "      <td>[[0.875], [0.375], [-0.25]]</td>\n",
       "    </tr>\n",
       "  </tbody>\n",
       "</table>\n",
       "</div>"
      ],
      "text/plain": [
       "                          Base                     Solucion\n",
       "0     [[0.5], [0.75], [-0.25]]     [[0.5], [0.75], [-0.25]]\n",
       "1  [[0.875], [0.375], [-0.25]]  [[0.875], [0.375], [-0.25]]"
      ]
     },
     "metadata": {},
     "output_type": "display_data"
    }
   ],
   "source": [
    "pd.set_option(\"max_colwidth\",75)\n",
    "df_dir2 = pd.DataFrame(dir2)\n",
    "display (df_dir2)"
   ]
  },
  {
   "cell_type": "code",
   "execution_count": 8,
   "metadata": {
    "colab": {
     "base_uri": "https://localhost:8080/",
     "height": 143
    },
    "id": "Uaf4rirEt2I8",
    "outputId": "417fbe16-0bea-4925-8bff-52a4f765eeee"
   },
   "outputs": [
    {
     "data": {
      "text/html": [
       "<div>\n",
       "<style scoped>\n",
       "    .dataframe tbody tr th:only-of-type {\n",
       "        vertical-align: middle;\n",
       "    }\n",
       "\n",
       "    .dataframe tbody tr th {\n",
       "        vertical-align: top;\n",
       "    }\n",
       "\n",
       "    .dataframe thead th {\n",
       "        text-align: right;\n",
       "    }\n",
       "</style>\n",
       "<table border=\"1\" class=\"dataframe\">\n",
       "  <thead>\n",
       "    <tr style=\"text-align: right;\">\n",
       "      <th></th>\n",
       "      <th>Base</th>\n",
       "      <th>Solucion</th>\n",
       "    </tr>\n",
       "  </thead>\n",
       "  <tbody>\n",
       "    <tr>\n",
       "      <th>0</th>\n",
       "      <td>[[0.0], [1.0], [0.0]]</td>\n",
       "      <td>[[0.0], [1.0], [0.0]]</td>\n",
       "    </tr>\n",
       "    <tr>\n",
       "      <th>1</th>\n",
       "      <td>[[0.5], [0.5], [0.0]]</td>\n",
       "      <td>[[0.5], [0.5], [0.0]]</td>\n",
       "    </tr>\n",
       "    <tr>\n",
       "      <th>2</th>\n",
       "      <td>[[1.0], [0.0], [0.0]]</td>\n",
       "      <td>[[1.0], [0.0], [0.0]]</td>\n",
       "    </tr>\n",
       "  </tbody>\n",
       "</table>\n",
       "</div>"
      ],
      "text/plain": [
       "                    Base               Solucion\n",
       "0  [[0.0], [1.0], [0.0]]  [[0.0], [1.0], [0.0]]\n",
       "1  [[0.5], [0.5], [0.0]]  [[0.5], [0.5], [0.0]]\n",
       "2  [[1.0], [0.0], [0.0]]  [[1.0], [0.0], [0.0]]"
      ]
     },
     "metadata": {},
     "output_type": "display_data"
    }
   ],
   "source": [
    "#Ejemplo \n",
    "A3 = np.array([[1 ,1,1,3 ],[1,2,3,4], [2,3,4,5]])\n",
    "b1 = np.array([[1],[2],[3]])\n",
    "dir3 = soluciones_basicas(A3,b1)\n",
    "pd.set_option(\"max_colwidth\",75)\n",
    "df_dir3 = pd.DataFrame(dir3)\n",
    "display (df_dir3)"
   ]
  },
  {
   "cell_type": "markdown",
   "metadata": {
    "id": "w3Iaa1kxt2I8"
   },
   "source": [
    "## Segundo Punto"
   ]
  },
  {
   "cell_type": "markdown",
   "metadata": {
    "id": "Ab1cUpfNt2I8"
   },
   "source": [
    "### a) \n",
    "###1)\n",
    "Las variables del problema son la cantidad de toneladas de carbón (C), petroleo (P) y gas(G) que serán utilizadas para producir energía.\n",
    "###2) \n",
    "La función de costo del ejercicio es:\n",
    "f() = 600000C + 550000P + 500000G\n",
    "La función representa la cantidad máxima de energía [W]  que puede ser generada en un día dentro de la planta generadora.  \n",
    "###3)\n",
    "Restricciones:\n",
    "\n",
    "\n",
    "*   20C + 18P + 15G <= 60\n",
    "*   15C + 12P + 10G <= 75\n",
    "*   200C + 220P + 250G <= 2000\n",
    "*   C,P,G < 0\n",
    "\n",
    "\n",
    "\n"
   ]
  },
  {
   "cell_type": "markdown",
   "metadata": {
    "id": "zG04GW4kt2I9"
   },
   "source": [
    "### b)"
   ]
  },
  {
   "cell_type": "code",
   "execution_count": null,
   "metadata": {
    "id": "J51xNgYKt2I9"
   },
   "outputs": [],
   "source": []
  },
  {
   "cell_type": "code",
   "execution_count": null,
   "metadata": {
    "id": "v_auKK1Nt2I9"
   },
   "outputs": [],
   "source": []
  },
  {
   "cell_type": "code",
   "execution_count": null,
   "metadata": {
    "id": "qu_DdW0Ht2I9"
   },
   "outputs": [],
   "source": []
  },
  {
   "cell_type": "markdown",
   "metadata": {
    "id": "_MKIR5mWt2I-"
   },
   "source": [
    "### c)"
   ]
  },
  {
   "cell_type": "code",
   "execution_count": 8,
   "metadata": {
    "id": "E05_OCnDt2I-"
   },
   "outputs": [],
   "source": []
  },
  {
   "cell_type": "code",
   "execution_count": 7,
   "metadata": {
    "id": "i9louL3Qt2I-"
   },
   "outputs": [],
   "source": []
  },
  {
   "cell_type": "code",
   "execution_count": 8,
   "metadata": {
    "id": "BDKbrcNTt2I-"
   },
   "outputs": [],
   "source": []
  },
  {
   "cell_type": "code",
   "execution_count": 8,
   "metadata": {
    "id": "WUNyTSLrt2I-"
   },
   "outputs": [],
   "source": []
  },
  {
   "cell_type": "markdown",
   "metadata": {
    "id": "DONLnpNNt2I-"
   },
   "source": []
  }
 ],
 "metadata": {
  "colab": {
   "collapsed_sections": [],
   "provenance": []
  },
  "kernelspec": {
   "display_name": "Python 3",
   "language": "python",
   "name": "python3"
  },
  "language_info": {
   "codemirror_mode": {
    "name": "ipython",
    "version": 3
   },
   "file_extension": ".py",
   "mimetype": "text/x-python",
   "name": "python",
   "nbconvert_exporter": "python",
   "pygments_lexer": "ipython3",
   "version": "3.6.9"
  },
  "vscode": {
   "interpreter": {
    "hash": "31f2aee4e71d21fbe5cf8b01ff0e069b9275f58929596ceb00d14d90e3e16cd6"
   }
  }
 },
 "nbformat": 4,
 "nbformat_minor": 1
}
